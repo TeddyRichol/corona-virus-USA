{
  "nbformat": 4,
  "nbformat_minor": 0,
  "metadata": {
    "colab": {
      "name": "Copy of 070419_SerieTemporelle_Part1_update.ipynb",
      "provenance": [],
      "collapsed_sections": []
    },
    "kernelspec": {
      "display_name": "Python 3",
      "language": "python",
      "name": "python3"
    },
    "language_info": {
      "codemirror_mode": {
        "name": "ipython",
        "version": 3
      },
      "file_extension": ".py",
      "mimetype": "text/x-python",
      "name": "python",
      "nbconvert_exporter": "python",
      "pygments_lexer": "ipython3",
      "version": "3.8.3"
    }
  },
  "cells": [
    {
      "cell_type": "markdown",
      "metadata": {
        "id": "vBxbbRyAaMm6"
      },
      "source": [
        "#### Analyse de série temporelle avec Python"
      ]
    },
    {
      "cell_type": "code",
      "metadata": {
        "id": "TMIcWBQxNg6x",
        "colab": {
          "base_uri": "https://localhost:8080/",
          "height": 488
        },
        "outputId": "98cc9c6c-e4d7-4d0a-f9ab-3fbc18abe058"
      },
      "source": [
        "! pip install pandas_datareader --upgrade"
      ],
      "execution_count": null,
      "outputs": [
        {
          "output_type": "stream",
          "name": "stdout",
          "text": [
            "Requirement already satisfied: pandas_datareader in /usr/local/lib/python3.7/dist-packages (0.9.0)\n",
            "Collecting pandas_datareader\n",
            "  Downloading pandas_datareader-0.10.0-py3-none-any.whl (109 kB)\n",
            "\u001b[?25l\r\u001b[K     |███                             | 10 kB 23.0 MB/s eta 0:00:01\r\u001b[K     |██████                          | 20 kB 26.4 MB/s eta 0:00:01\r\u001b[K     |█████████                       | 30 kB 31.0 MB/s eta 0:00:01\r\u001b[K     |████████████                    | 40 kB 34.3 MB/s eta 0:00:01\r\u001b[K     |███████████████                 | 51 kB 33.7 MB/s eta 0:00:01\r\u001b[K     |██████████████████              | 61 kB 30.7 MB/s eta 0:00:01\r\u001b[K     |█████████████████████           | 71 kB 31.3 MB/s eta 0:00:01\r\u001b[K     |████████████████████████        | 81 kB 27.5 MB/s eta 0:00:01\r\u001b[K     |███████████████████████████     | 92 kB 29.3 MB/s eta 0:00:01\r\u001b[K     |██████████████████████████████  | 102 kB 31.3 MB/s eta 0:00:01\r\u001b[K     |████████████████████████████████| 109 kB 31.3 MB/s \n",
            "\u001b[?25hRequirement already satisfied: lxml in /usr/local/lib/python3.7/dist-packages (from pandas_datareader) (4.6.3)\n",
            "Requirement already satisfied: pandas>=0.23 in /usr/local/lib/python3.7/dist-packages (from pandas_datareader) (1.1.5)\n",
            "Requirement already satisfied: requests>=2.19.0 in /usr/local/lib/python3.7/dist-packages (from pandas_datareader) (2.23.0)\n",
            "Requirement already satisfied: numpy>=1.15.4 in /usr/local/lib/python3.7/dist-packages (from pandas>=0.23->pandas_datareader) (1.19.5)\n",
            "Requirement already satisfied: python-dateutil>=2.7.3 in /usr/local/lib/python3.7/dist-packages (from pandas>=0.23->pandas_datareader) (2.8.2)\n",
            "Requirement already satisfied: pytz>=2017.2 in /usr/local/lib/python3.7/dist-packages (from pandas>=0.23->pandas_datareader) (2018.9)\n",
            "Requirement already satisfied: six>=1.5 in /usr/local/lib/python3.7/dist-packages (from python-dateutil>=2.7.3->pandas>=0.23->pandas_datareader) (1.15.0)\n",
            "Requirement already satisfied: certifi>=2017.4.17 in /usr/local/lib/python3.7/dist-packages (from requests>=2.19.0->pandas_datareader) (2021.5.30)\n",
            "Requirement already satisfied: chardet<4,>=3.0.2 in /usr/local/lib/python3.7/dist-packages (from requests>=2.19.0->pandas_datareader) (3.0.4)\n",
            "Requirement already satisfied: idna<3,>=2.5 in /usr/local/lib/python3.7/dist-packages (from requests>=2.19.0->pandas_datareader) (2.10)\n",
            "Requirement already satisfied: urllib3!=1.25.0,!=1.25.1,<1.26,>=1.21.1 in /usr/local/lib/python3.7/dist-packages (from requests>=2.19.0->pandas_datareader) (1.24.3)\n",
            "Installing collected packages: pandas-datareader\n",
            "  Attempting uninstall: pandas-datareader\n",
            "    Found existing installation: pandas-datareader 0.9.0\n",
            "    Uninstalling pandas-datareader-0.9.0:\n",
            "      Successfully uninstalled pandas-datareader-0.9.0\n",
            "Successfully installed pandas-datareader-0.10.0\n"
          ]
        },
        {
          "output_type": "display_data",
          "data": {
            "application/vnd.colab-display-data+json": {
              "pip_warning": {
                "packages": [
                  "pandas_datareader"
                ]
              }
            }
          },
          "metadata": {}
        }
      ]
    },
    {
      "cell_type": "code",
      "metadata": {
        "id": "6WtEGl4VaMm8"
      },
      "source": [
        "import pandas as pd\n",
        "import pandas_datareader.data as web\n",
        "import numpy as np\n",
        "import matplotlib.pyplot as plt\n",
        "from sklearn.linear_model import LinearRegression\n",
        "%matplotlib inline"
      ],
      "execution_count": null,
      "outputs": []
    },
    {
      "cell_type": "markdown",
      "metadata": {
        "id": "pfsNYoJbaMnG"
      },
      "source": [
        "Dans cet tutoriel, nous nous intéressons au cours de l'action ford sur le marché US. Pour ce faire, nous utiliserons la fonction **DataReader** de pandas."
      ]
    },
    {
      "cell_type": "code",
      "metadata": {
        "id": "qK8Bd9ynaMnI",
        "colab": {
          "base_uri": "https://localhost:8080/"
        },
        "outputId": "eaaeb63e-c19e-4920-a9fa-168249f7741a"
      },
      "source": [
        "#### Création d'un data frame avec les valeur de l'action Ford de 2012 à 2019\n",
        "ford=web.DataReader('F', data_source = \"yahoo\", start = \"2012-04-04\", end = \"2019-04-04\" )"
      ],
      "execution_count": null,
      "outputs": [
        {
          "output_type": "stream",
          "name": "stdout",
          "text": [
            "\r[*********************100%***********************]  1 of 1 completed\n"
          ]
        }
      ]
    },
    {
      "cell_type": "code",
      "metadata": {
        "id": "X18sNxUr48gm",
        "colab": {
          "base_uri": "https://localhost:8080/",
          "height": 474
        },
        "outputId": "e0fe454b-27da-4d66-fb5a-5f7bfcaca006"
      },
      "source": [
        "#### Création d'un data frame avec les valeur de l'action Ford de 2012 à 2019\n",
        "web.DataReader('F', data_source = \"yahoo\", start = \"2012-04-04\", end = \"2019-04-04\" )"
      ],
      "execution_count": null,
      "outputs": [
        {
          "output_type": "stream",
          "name": "stdout",
          "text": [
            "\r[*********************100%***********************]  1 of 1 completed\n"
          ]
        },
        {
          "output_type": "execute_result",
          "data": {
            "text/html": [
              "<div>\n",
              "<style scoped>\n",
              "    .dataframe tbody tr th:only-of-type {\n",
              "        vertical-align: middle;\n",
              "    }\n",
              "\n",
              "    .dataframe tbody tr th {\n",
              "        vertical-align: top;\n",
              "    }\n",
              "\n",
              "    .dataframe thead th {\n",
              "        text-align: right;\n",
              "    }\n",
              "</style>\n",
              "<table border=\"1\" class=\"dataframe\">\n",
              "  <thead>\n",
              "    <tr style=\"text-align: right;\">\n",
              "      <th></th>\n",
              "      <th>Open</th>\n",
              "      <th>High</th>\n",
              "      <th>Low</th>\n",
              "      <th>Close</th>\n",
              "      <th>Adj Close</th>\n",
              "      <th>Volume</th>\n",
              "    </tr>\n",
              "    <tr>\n",
              "      <th>Date</th>\n",
              "      <th></th>\n",
              "      <th></th>\n",
              "      <th></th>\n",
              "      <th></th>\n",
              "      <th></th>\n",
              "      <th></th>\n",
              "    </tr>\n",
              "  </thead>\n",
              "  <tbody>\n",
              "    <tr>\n",
              "      <th>2012-04-04</th>\n",
              "      <td>12.46</td>\n",
              "      <td>12.52</td>\n",
              "      <td>12.32</td>\n",
              "      <td>12.51</td>\n",
              "      <td>8.513489</td>\n",
              "      <td>51505000</td>\n",
              "    </tr>\n",
              "    <tr>\n",
              "      <th>2012-04-05</th>\n",
              "      <td>12.38</td>\n",
              "      <td>12.58</td>\n",
              "      <td>12.38</td>\n",
              "      <td>12.47</td>\n",
              "      <td>8.486265</td>\n",
              "      <td>37939500</td>\n",
              "    </tr>\n",
              "    <tr>\n",
              "      <th>2012-04-09</th>\n",
              "      <td>12.26</td>\n",
              "      <td>12.29</td>\n",
              "      <td>12.11</td>\n",
              "      <td>12.22</td>\n",
              "      <td>8.316133</td>\n",
              "      <td>42515300</td>\n",
              "    </tr>\n",
              "    <tr>\n",
              "      <th>2012-04-10</th>\n",
              "      <td>12.19</td>\n",
              "      <td>12.28</td>\n",
              "      <td>11.65</td>\n",
              "      <td>11.79</td>\n",
              "      <td>8.023503</td>\n",
              "      <td>77370300</td>\n",
              "    </tr>\n",
              "    <tr>\n",
              "      <th>2012-04-11</th>\n",
              "      <td>11.99</td>\n",
              "      <td>12.02</td>\n",
              "      <td>11.88</td>\n",
              "      <td>11.91</td>\n",
              "      <td>8.105167</td>\n",
              "      <td>34724400</td>\n",
              "    </tr>\n",
              "    <tr>\n",
              "      <th>...</th>\n",
              "      <td>...</td>\n",
              "      <td>...</td>\n",
              "      <td>...</td>\n",
              "      <td>...</td>\n",
              "      <td>...</td>\n",
              "      <td>...</td>\n",
              "    </tr>\n",
              "    <tr>\n",
              "      <th>2019-03-28</th>\n",
              "      <td>8.65</td>\n",
              "      <td>8.83</td>\n",
              "      <td>8.64</td>\n",
              "      <td>8.77</td>\n",
              "      <td>8.227353</td>\n",
              "      <td>38914700</td>\n",
              "    </tr>\n",
              "    <tr>\n",
              "      <th>2019-03-29</th>\n",
              "      <td>8.80</td>\n",
              "      <td>8.89</td>\n",
              "      <td>8.71</td>\n",
              "      <td>8.78</td>\n",
              "      <td>8.236732</td>\n",
              "      <td>33962800</td>\n",
              "    </tr>\n",
              "    <tr>\n",
              "      <th>2019-04-01</th>\n",
              "      <td>8.86</td>\n",
              "      <td>9.00</td>\n",
              "      <td>8.86</td>\n",
              "      <td>8.98</td>\n",
              "      <td>8.424357</td>\n",
              "      <td>45653100</td>\n",
              "    </tr>\n",
              "    <tr>\n",
              "      <th>2019-04-02</th>\n",
              "      <td>8.95</td>\n",
              "      <td>9.03</td>\n",
              "      <td>8.91</td>\n",
              "      <td>9.01</td>\n",
              "      <td>8.452502</td>\n",
              "      <td>30699400</td>\n",
              "    </tr>\n",
              "    <tr>\n",
              "      <th>2019-04-03</th>\n",
              "      <td>9.07</td>\n",
              "      <td>9.27</td>\n",
              "      <td>9.06</td>\n",
              "      <td>9.13</td>\n",
              "      <td>8.565078</td>\n",
              "      <td>56663600</td>\n",
              "    </tr>\n",
              "  </tbody>\n",
              "</table>\n",
              "<p>1760 rows × 6 columns</p>\n",
              "</div>"
            ],
            "text/plain": [
              "             Open   High    Low  Close  Adj Close    Volume\n",
              "Date                                                       \n",
              "2012-04-04  12.46  12.52  12.32  12.51   8.513489  51505000\n",
              "2012-04-05  12.38  12.58  12.38  12.47   8.486265  37939500\n",
              "2012-04-09  12.26  12.29  12.11  12.22   8.316133  42515300\n",
              "2012-04-10  12.19  12.28  11.65  11.79   8.023503  77370300\n",
              "2012-04-11  11.99  12.02  11.88  11.91   8.105167  34724400\n",
              "...           ...    ...    ...    ...        ...       ...\n",
              "2019-03-28   8.65   8.83   8.64   8.77   8.227353  38914700\n",
              "2019-03-29   8.80   8.89   8.71   8.78   8.236732  33962800\n",
              "2019-04-01   8.86   9.00   8.86   8.98   8.424357  45653100\n",
              "2019-04-02   8.95   9.03   8.91   9.01   8.452502  30699400\n",
              "2019-04-03   9.07   9.27   9.06   9.13   8.565078  56663600\n",
              "\n",
              "[1760 rows x 6 columns]"
            ]
          },
          "metadata": {},
          "execution_count": 13
        }
      ]
    },
    {
      "cell_type": "code",
      "metadata": {
        "colab": {
          "base_uri": "https://localhost:8080/",
          "height": 237
        },
        "id": "C1TGkCFS3AnX",
        "outputId": "0d7df2a4-0f49-4188-92b4-3760f8647e24"
      },
      "source": [
        "df = web.DataReader('GE', 'yahoo', start='2019-09-10', end='2019-10-09')\n",
        "df.head()"
      ],
      "execution_count": null,
      "outputs": [
        {
          "output_type": "execute_result",
          "data": {
            "text/html": [
              "<div>\n",
              "<style scoped>\n",
              "    .dataframe tbody tr th:only-of-type {\n",
              "        vertical-align: middle;\n",
              "    }\n",
              "\n",
              "    .dataframe tbody tr th {\n",
              "        vertical-align: top;\n",
              "    }\n",
              "\n",
              "    .dataframe thead th {\n",
              "        text-align: right;\n",
              "    }\n",
              "</style>\n",
              "<table border=\"1\" class=\"dataframe\">\n",
              "  <thead>\n",
              "    <tr style=\"text-align: right;\">\n",
              "      <th></th>\n",
              "      <th>High</th>\n",
              "      <th>Low</th>\n",
              "      <th>Open</th>\n",
              "      <th>Close</th>\n",
              "      <th>Volume</th>\n",
              "      <th>Adj Close</th>\n",
              "    </tr>\n",
              "    <tr>\n",
              "      <th>Date</th>\n",
              "      <th></th>\n",
              "      <th></th>\n",
              "      <th></th>\n",
              "      <th></th>\n",
              "      <th></th>\n",
              "      <th></th>\n",
              "    </tr>\n",
              "  </thead>\n",
              "  <tbody>\n",
              "    <tr>\n",
              "      <th>2019-09-10</th>\n",
              "      <td>74.160004</td>\n",
              "      <td>71.199997</td>\n",
              "      <td>71.279999</td>\n",
              "      <td>73.120003</td>\n",
              "      <td>7827150.0</td>\n",
              "      <td>72.441422</td>\n",
              "    </tr>\n",
              "    <tr>\n",
              "      <th>2019-09-11</th>\n",
              "      <td>74.879997</td>\n",
              "      <td>72.480003</td>\n",
              "      <td>73.199997</td>\n",
              "      <td>74.879997</td>\n",
              "      <td>7136863.0</td>\n",
              "      <td>74.185081</td>\n",
              "    </tr>\n",
              "    <tr>\n",
              "      <th>2019-09-12</th>\n",
              "      <td>76.160004</td>\n",
              "      <td>73.760002</td>\n",
              "      <td>75.199997</td>\n",
              "      <td>74.080002</td>\n",
              "      <td>8514388.0</td>\n",
              "      <td>73.392517</td>\n",
              "    </tr>\n",
              "    <tr>\n",
              "      <th>2019-09-13</th>\n",
              "      <td>75.599998</td>\n",
              "      <td>73.120003</td>\n",
              "      <td>74.480003</td>\n",
              "      <td>74.720001</td>\n",
              "      <td>5698675.0</td>\n",
              "      <td>74.106613</td>\n",
              "    </tr>\n",
              "    <tr>\n",
              "      <th>2019-09-16</th>\n",
              "      <td>75.360001</td>\n",
              "      <td>73.360001</td>\n",
              "      <td>74.400002</td>\n",
              "      <td>75.040001</td>\n",
              "      <td>5718550.0</td>\n",
              "      <td>74.423981</td>\n",
              "    </tr>\n",
              "  </tbody>\n",
              "</table>\n",
              "</div>"
            ],
            "text/plain": [
              "                 High        Low       Open      Close     Volume  Adj Close\n",
              "Date                                                                        \n",
              "2019-09-10  74.160004  71.199997  71.279999  73.120003  7827150.0  72.441422\n",
              "2019-09-11  74.879997  72.480003  73.199997  74.879997  7136863.0  74.185081\n",
              "2019-09-12  76.160004  73.760002  75.199997  74.080002  8514388.0  73.392517\n",
              "2019-09-13  75.599998  73.120003  74.480003  74.720001  5698675.0  74.106613\n",
              "2019-09-16  75.360001  73.360001  74.400002  75.040001  5718550.0  74.423981"
            ]
          },
          "metadata": {},
          "execution_count": 8
        }
      ]
    },
    {
      "cell_type": "code",
      "metadata": {
        "colab": {
          "base_uri": "https://localhost:8080/"
        },
        "id": "k9snGkgx3eok",
        "outputId": "e14d8396-51c1-4a92-b7ef-1e331cecdfac"
      },
      "source": [
        "pip install yfinance"
      ],
      "execution_count": null,
      "outputs": [
        {
          "output_type": "stream",
          "name": "stdout",
          "text": [
            "Collecting yfinance\n",
            "  Downloading yfinance-0.1.64.tar.gz (26 kB)\n",
            "Requirement already satisfied: pandas>=0.24 in /usr/local/lib/python3.7/dist-packages (from yfinance) (1.1.5)\n",
            "Requirement already satisfied: numpy>=1.15 in /usr/local/lib/python3.7/dist-packages (from yfinance) (1.19.5)\n",
            "Requirement already satisfied: requests>=2.20 in /usr/local/lib/python3.7/dist-packages (from yfinance) (2.23.0)\n",
            "Requirement already satisfied: multitasking>=0.0.7 in /usr/local/lib/python3.7/dist-packages (from yfinance) (0.0.9)\n",
            "Collecting lxml>=4.5.1\n",
            "  Downloading lxml-4.6.3-cp37-cp37m-manylinux2014_x86_64.whl (6.3 MB)\n",
            "\u001b[K     |████████████████████████████████| 6.3 MB 18.6 MB/s \n",
            "\u001b[?25hRequirement already satisfied: pytz>=2017.2 in /usr/local/lib/python3.7/dist-packages (from pandas>=0.24->yfinance) (2018.9)\n",
            "Requirement already satisfied: python-dateutil>=2.7.3 in /usr/local/lib/python3.7/dist-packages (from pandas>=0.24->yfinance) (2.8.2)\n",
            "Requirement already satisfied: six>=1.5 in /usr/local/lib/python3.7/dist-packages (from python-dateutil>=2.7.3->pandas>=0.24->yfinance) (1.15.0)\n",
            "Requirement already satisfied: chardet<4,>=3.0.2 in /usr/local/lib/python3.7/dist-packages (from requests>=2.20->yfinance) (3.0.4)\n",
            "Requirement already satisfied: urllib3!=1.25.0,!=1.25.1,<1.26,>=1.21.1 in /usr/local/lib/python3.7/dist-packages (from requests>=2.20->yfinance) (1.24.3)\n",
            "Requirement already satisfied: idna<3,>=2.5 in /usr/local/lib/python3.7/dist-packages (from requests>=2.20->yfinance) (2.10)\n",
            "Requirement already satisfied: certifi>=2017.4.17 in /usr/local/lib/python3.7/dist-packages (from requests>=2.20->yfinance) (2021.5.30)\n",
            "Building wheels for collected packages: yfinance\n",
            "  Building wheel for yfinance (setup.py) ... \u001b[?25l\u001b[?25hdone\n",
            "  Created wheel for yfinance: filename=yfinance-0.1.64-py2.py3-none-any.whl size=24109 sha256=77eec7440abb941c81f63f2669e30f66ecea97a7289d39d526a8487c294bbb11\n",
            "  Stored in directory: /root/.cache/pip/wheels/86/fe/9b/a4d3d78796b699e37065e5b6c27b75cff448ddb8b24943c288\n",
            "Successfully built yfinance\n",
            "Installing collected packages: lxml, yfinance\n",
            "  Attempting uninstall: lxml\n",
            "    Found existing installation: lxml 4.2.6\n",
            "    Uninstalling lxml-4.2.6:\n",
            "      Successfully uninstalled lxml-4.2.6\n",
            "Successfully installed lxml-4.6.3 yfinance-0.1.64\n"
          ]
        }
      ]
    },
    {
      "cell_type": "code",
      "metadata": {
        "colab": {
          "base_uri": "https://localhost:8080/"
        },
        "id": "nODfVera3bam",
        "outputId": "9c6e2897-c265-411e-e5a5-07a0638c4442"
      },
      "source": [
        "import pandas\n",
        "from pandas_datareader import data as pdr\n",
        "import yfinance as yfin\n",
        "yfin.pdr_override()\n",
        "\n",
        "df = pdr.get_data_yahoo(\"TSLA\", start=\"2017-06-06\", end=\"2018-06-06\")\n",
        "print(df)"
      ],
      "execution_count": null,
      "outputs": [
        {
          "output_type": "stream",
          "name": "stdout",
          "text": [
            "\r[*********************100%***********************]  1 of 1 completed\n",
            "                 Open       High        Low      Close  Adj Close    Volume\n",
            "Date                                                                       \n",
            "2017-06-06  68.940002  71.898003  67.994003  70.570000  70.570000  55434000\n",
            "2017-06-07  71.267998  72.099998  71.028000  71.930000  71.930000  46990000\n",
            "2017-06-08  72.750000  74.379997  72.043999  74.000000  74.000000  45307500\n",
            "2017-06-09  74.884003  75.374001  70.959999  71.463997  71.463997  86307000\n",
            "2017-06-12  71.598000  72.900002  70.124001  71.802002  71.802002  52588500\n",
            "...               ...        ...        ...        ...        ...       ...\n",
            "2018-05-30  56.658001  59.001999  56.320000  58.344002  58.344002  37448500\n",
            "2018-05-31  57.442001  58.074001  56.585999  56.945999  56.945999  29598500\n",
            "2018-06-01  57.172001  58.389999  56.768002  58.363998  58.363998  27122000\n",
            "2018-06-04  58.868000  59.799999  58.709999  59.348000  59.348000  23989000\n",
            "2018-06-05  59.540001  59.560001  57.348000  58.226002  58.226002  29976000\n",
            "\n",
            "[252 rows x 6 columns]\n"
          ]
        }
      ]
    },
    {
      "cell_type": "markdown",
      "metadata": {
        "id": "QRVjKaLXaMnR"
      },
      "source": [
        "On obtient un dataframe de 6 colonnes pour chaque date de cotation (Index).\n",
        "* **Open** le prix d'ouverture\n",
        "* **High** le prix le plus haut\n",
        "* **Low** le prix le plus bas \n",
        "* **Close** le prix de clôture de l'action\n",
        "* **Adj Close** le prix ajusté de clôture (cf ouverture de capital)\n",
        "* **Volume** qui correspond au nombre d'actions échangé le jour"
      ]
    },
    {
      "cell_type": "code",
      "metadata": {
        "id": "XdO-rm0aaMnS",
        "colab": {
          "base_uri": "https://localhost:8080/",
          "height": 237
        },
        "outputId": "3e8ae66d-5bbd-405d-af6f-afed8bb1e7b9"
      },
      "source": [
        "ford.head(5)\n",
        "ford.tail(5) ### 5 dernière valeurs du cours"
      ],
      "execution_count": null,
      "outputs": [
        {
          "output_type": "execute_result",
          "data": {
            "text/html": [
              "<div>\n",
              "<style scoped>\n",
              "    .dataframe tbody tr th:only-of-type {\n",
              "        vertical-align: middle;\n",
              "    }\n",
              "\n",
              "    .dataframe tbody tr th {\n",
              "        vertical-align: top;\n",
              "    }\n",
              "\n",
              "    .dataframe thead th {\n",
              "        text-align: right;\n",
              "    }\n",
              "</style>\n",
              "<table border=\"1\" class=\"dataframe\">\n",
              "  <thead>\n",
              "    <tr style=\"text-align: right;\">\n",
              "      <th></th>\n",
              "      <th>Open</th>\n",
              "      <th>High</th>\n",
              "      <th>Low</th>\n",
              "      <th>Close</th>\n",
              "      <th>Adj Close</th>\n",
              "      <th>Volume</th>\n",
              "    </tr>\n",
              "    <tr>\n",
              "      <th>Date</th>\n",
              "      <th></th>\n",
              "      <th></th>\n",
              "      <th></th>\n",
              "      <th></th>\n",
              "      <th></th>\n",
              "      <th></th>\n",
              "    </tr>\n",
              "  </thead>\n",
              "  <tbody>\n",
              "    <tr>\n",
              "      <th>2019-03-28</th>\n",
              "      <td>8.65</td>\n",
              "      <td>8.83</td>\n",
              "      <td>8.64</td>\n",
              "      <td>8.77</td>\n",
              "      <td>8.227353</td>\n",
              "      <td>38914700</td>\n",
              "    </tr>\n",
              "    <tr>\n",
              "      <th>2019-03-29</th>\n",
              "      <td>8.80</td>\n",
              "      <td>8.89</td>\n",
              "      <td>8.71</td>\n",
              "      <td>8.78</td>\n",
              "      <td>8.236733</td>\n",
              "      <td>33962800</td>\n",
              "    </tr>\n",
              "    <tr>\n",
              "      <th>2019-04-01</th>\n",
              "      <td>8.86</td>\n",
              "      <td>9.00</td>\n",
              "      <td>8.86</td>\n",
              "      <td>8.98</td>\n",
              "      <td>8.424358</td>\n",
              "      <td>45653100</td>\n",
              "    </tr>\n",
              "    <tr>\n",
              "      <th>2019-04-02</th>\n",
              "      <td>8.95</td>\n",
              "      <td>9.03</td>\n",
              "      <td>8.91</td>\n",
              "      <td>9.01</td>\n",
              "      <td>8.452502</td>\n",
              "      <td>30699400</td>\n",
              "    </tr>\n",
              "    <tr>\n",
              "      <th>2019-04-03</th>\n",
              "      <td>9.07</td>\n",
              "      <td>9.27</td>\n",
              "      <td>9.06</td>\n",
              "      <td>9.13</td>\n",
              "      <td>8.565077</td>\n",
              "      <td>56663600</td>\n",
              "    </tr>\n",
              "  </tbody>\n",
              "</table>\n",
              "</div>"
            ],
            "text/plain": [
              "            Open  High   Low  Close  Adj Close    Volume\n",
              "Date                                                    \n",
              "2019-03-28  8.65  8.83  8.64   8.77   8.227353  38914700\n",
              "2019-03-29  8.80  8.89  8.71   8.78   8.236733  33962800\n",
              "2019-04-01  8.86  9.00  8.86   8.98   8.424358  45653100\n",
              "2019-04-02  8.95  9.03  8.91   9.01   8.452502  30699400\n",
              "2019-04-03  9.07  9.27  9.06   9.13   8.565077  56663600"
            ]
          },
          "metadata": {},
          "execution_count": 14
        }
      ]
    },
    {
      "cell_type": "code",
      "metadata": {
        "id": "F0gtGF1gaMnb",
        "colab": {
          "base_uri": "https://localhost:8080/"
        },
        "outputId": "fbf912f7-8362-42f2-c278-618fff24924c"
      },
      "source": [
        "ford.shape #### 1777 valeurs pour l'interval choisie"
      ],
      "execution_count": null,
      "outputs": [
        {
          "output_type": "execute_result",
          "data": {
            "text/plain": [
              "(1760, 6)"
            ]
          },
          "metadata": {},
          "execution_count": 15
        }
      ]
    },
    {
      "cell_type": "code",
      "metadata": {
        "id": "Y-Z2isXAaMnl",
        "colab": {
          "base_uri": "https://localhost:8080/"
        },
        "outputId": "41d88026-f1ee-4602-b96f-7aa75f2ed756"
      },
      "source": [
        "##### Moyenne sur les 100 dernières valeurs pour avoir un ordre d'idée du prix de l'action\n",
        "\n",
        "import numpy as np \n",
        "\n",
        "len(ford.iloc[1677:1778,:]) #### 100 dernières valeurs\n",
        "\n",
        "np.mean(ford.iloc[1677:1777, :])"
      ],
      "execution_count": null,
      "outputs": [
        {
          "output_type": "execute_result",
          "data": {
            "text/plain": [
              "Open         8.578313e+00\n",
              "High         8.691084e+00\n",
              "Low          8.452892e+00\n",
              "Close        8.563253e+00\n",
              "Adj Close    7.971245e+00\n",
              "Volume       4.539330e+07\n",
              "dtype: float64"
            ]
          },
          "metadata": {},
          "execution_count": 16
        }
      ]
    },
    {
      "cell_type": "markdown",
      "metadata": {
        "id": "Z3SBS5PCaMnt"
      },
      "source": [
        "En moyenne sur les 100 dernières valeurs, l'action ford vaut **8.70** dollars."
      ]
    },
    {
      "cell_type": "markdown",
      "metadata": {
        "id": "My8ZR51waMnv"
      },
      "source": [
        "On crée une nouvelle variable qui correspond aux rangs de l'action dans notre data frame de la plus ancienne à la plus récente. On l'appelera \"**Num**\"."
      ]
    },
    {
      "cell_type": "code",
      "metadata": {
        "id": "gJaKJq7QaMnx"
      },
      "source": [
        "ford[\"Num\"] = range(1, len(ford) +1) ##### Incrémente la valeur suivant son rang dans le dataset"
      ],
      "execution_count": null,
      "outputs": []
    },
    {
      "cell_type": "code",
      "metadata": {
        "id": "v9UqsJCBaMn6",
        "colab": {
          "base_uri": "https://localhost:8080/",
          "height": 237
        },
        "outputId": "a118acf9-9ea1-4ece-fa64-9826f797f000"
      },
      "source": [
        "ford[:5]"
      ],
      "execution_count": null,
      "outputs": [
        {
          "output_type": "execute_result",
          "data": {
            "text/html": [
              "<div>\n",
              "<style scoped>\n",
              "    .dataframe tbody tr th:only-of-type {\n",
              "        vertical-align: middle;\n",
              "    }\n",
              "\n",
              "    .dataframe tbody tr th {\n",
              "        vertical-align: top;\n",
              "    }\n",
              "\n",
              "    .dataframe thead th {\n",
              "        text-align: right;\n",
              "    }\n",
              "</style>\n",
              "<table border=\"1\" class=\"dataframe\">\n",
              "  <thead>\n",
              "    <tr style=\"text-align: right;\">\n",
              "      <th></th>\n",
              "      <th>Open</th>\n",
              "      <th>High</th>\n",
              "      <th>Low</th>\n",
              "      <th>Close</th>\n",
              "      <th>Adj Close</th>\n",
              "      <th>Volume</th>\n",
              "      <th>Num</th>\n",
              "    </tr>\n",
              "    <tr>\n",
              "      <th>Date</th>\n",
              "      <th></th>\n",
              "      <th></th>\n",
              "      <th></th>\n",
              "      <th></th>\n",
              "      <th></th>\n",
              "      <th></th>\n",
              "      <th></th>\n",
              "    </tr>\n",
              "  </thead>\n",
              "  <tbody>\n",
              "    <tr>\n",
              "      <th>2012-04-04</th>\n",
              "      <td>12.46</td>\n",
              "      <td>12.52</td>\n",
              "      <td>12.32</td>\n",
              "      <td>12.51</td>\n",
              "      <td>8.513487</td>\n",
              "      <td>51505000</td>\n",
              "      <td>1</td>\n",
              "    </tr>\n",
              "    <tr>\n",
              "      <th>2012-04-05</th>\n",
              "      <td>12.38</td>\n",
              "      <td>12.58</td>\n",
              "      <td>12.38</td>\n",
              "      <td>12.47</td>\n",
              "      <td>8.486265</td>\n",
              "      <td>37939500</td>\n",
              "      <td>2</td>\n",
              "    </tr>\n",
              "    <tr>\n",
              "      <th>2012-04-09</th>\n",
              "      <td>12.26</td>\n",
              "      <td>12.29</td>\n",
              "      <td>12.11</td>\n",
              "      <td>12.22</td>\n",
              "      <td>8.316134</td>\n",
              "      <td>42515300</td>\n",
              "      <td>3</td>\n",
              "    </tr>\n",
              "    <tr>\n",
              "      <th>2012-04-10</th>\n",
              "      <td>12.19</td>\n",
              "      <td>12.28</td>\n",
              "      <td>11.65</td>\n",
              "      <td>11.79</td>\n",
              "      <td>8.023501</td>\n",
              "      <td>77370300</td>\n",
              "      <td>4</td>\n",
              "    </tr>\n",
              "    <tr>\n",
              "      <th>2012-04-11</th>\n",
              "      <td>11.99</td>\n",
              "      <td>12.02</td>\n",
              "      <td>11.88</td>\n",
              "      <td>11.91</td>\n",
              "      <td>8.105167</td>\n",
              "      <td>34724400</td>\n",
              "      <td>5</td>\n",
              "    </tr>\n",
              "  </tbody>\n",
              "</table>\n",
              "</div>"
            ],
            "text/plain": [
              "             Open   High    Low  Close  Adj Close    Volume  Num\n",
              "Date                                                            \n",
              "2012-04-04  12.46  12.52  12.32  12.51   8.513487  51505000    1\n",
              "2012-04-05  12.38  12.58  12.38  12.47   8.486265  37939500    2\n",
              "2012-04-09  12.26  12.29  12.11  12.22   8.316134  42515300    3\n",
              "2012-04-10  12.19  12.28  11.65  11.79   8.023501  77370300    4\n",
              "2012-04-11  11.99  12.02  11.88  11.91   8.105167  34724400    5"
            ]
          },
          "metadata": {},
          "execution_count": 18
        }
      ]
    },
    {
      "cell_type": "code",
      "metadata": {
        "id": "YV0ibrBraMoD",
        "colab": {
          "base_uri": "https://localhost:8080/",
          "height": 295
        },
        "outputId": "d46a2e49-3483-4daa-88ea-df44b93fa710"
      },
      "source": [
        "#### On trace le prix de l'action en fonction du temps\n",
        "\n",
        "def graph(x,y,data):\n",
        "    \n",
        "    \"\"\"\n",
        "        Graphique une variable en fonction de l'autre\n",
        "            Entrée: Nom colonne 1 (x), nom colonne 2 (y) et données (data)\n",
        "            \n",
        "            Sortie: Graphique\n",
        "    \"\"\"\n",
        "\n",
        "    graph = data.plot(x, y, legend = False, title = \"Action Ford\", color = (1,0,0));\n",
        "    graph.legend = None\n",
        "    graph.set_ylabel('Prix de l\\'action')\n",
        "    \n",
        "\n",
        "graph(\"Num\", \"Open\", ford)"
      ],
      "execution_count": null,
      "outputs": [
        {
          "output_type": "display_data",
          "data": {
            "image/png": "[encoded data removed]",
            "text/plain": [
              "<Figure size 432x288 with 1 Axes>"
            ]
          },
          "metadata": {
            "needs_background": "light"
          }
        }
      ]
    },
    {
      "cell_type": "markdown",
      "metadata": {
        "id": "39RcTeC5aMoL"
      },
      "source": [
        "Dans cette partie, on ne sélectionnera qu'un dixième et un vingtième des données:"
      ]
    },
    {
      "cell_type": "code",
      "metadata": {
        "id": "WV7ObYCh9VYw"
      },
      "source": [
        "### on sélectionne que 5% des données\n",
        "un_cinquième = ford.sample(frac = .2, random_state = np.random.randint(10))"
      ],
      "execution_count": null,
      "outputs": []
    },
    {
      "cell_type": "markdown",
      "metadata": {
        "id": "f3AXyoqsaMoN"
      },
      "source": [
        "**10 %** des données:"
      ]
    },
    {
      "cell_type": "code",
      "metadata": {
        "id": "P5_6aSNTaMoO"
      },
      "source": [
        "#### On ne sélectionne que 10% des données\n",
        "un_dixieme = ford.sample(frac = .1, random_state = np.random.randint(10))"
      ],
      "execution_count": null,
      "outputs": []
    },
    {
      "cell_type": "code",
      "metadata": {
        "id": "HHXbuHqhaMoV"
      },
      "source": [
        "#### De la même façon avec 5% des données\n",
        "\n",
        "un_vingtieme = ford.sample(frac = .05, random_state = np.random.randint(10))"
      ],
      "execution_count": null,
      "outputs": []
    },
    {
      "cell_type": "code",
      "metadata": {
        "id": "UsBXy6-YaMoz",
        "colab": {
          "base_uri": "https://localhost:8080/",
          "height": 237
        },
        "outputId": "a45b57b5-bd85-4175-b581-fb33c7a367a6"
      },
      "source": [
        "un_dixieme.head()"
      ],
      "execution_count": null,
      "outputs": [
        {
          "output_type": "execute_result",
          "data": {
            "text/html": [
              "<div>\n",
              "<style scoped>\n",
              "    .dataframe tbody tr th:only-of-type {\n",
              "        vertical-align: middle;\n",
              "    }\n",
              "\n",
              "    .dataframe tbody tr th {\n",
              "        vertical-align: top;\n",
              "    }\n",
              "\n",
              "    .dataframe thead th {\n",
              "        text-align: right;\n",
              "    }\n",
              "</style>\n",
              "<table border=\"1\" class=\"dataframe\">\n",
              "  <thead>\n",
              "    <tr style=\"text-align: right;\">\n",
              "      <th></th>\n",
              "      <th>Open</th>\n",
              "      <th>High</th>\n",
              "      <th>Low</th>\n",
              "      <th>Close</th>\n",
              "      <th>Adj Close</th>\n",
              "      <th>Volume</th>\n",
              "      <th>Num</th>\n",
              "    </tr>\n",
              "    <tr>\n",
              "      <th>Date</th>\n",
              "      <th></th>\n",
              "      <th></th>\n",
              "      <th></th>\n",
              "      <th></th>\n",
              "      <th></th>\n",
              "      <th></th>\n",
              "      <th></th>\n",
              "    </tr>\n",
              "  </thead>\n",
              "  <tbody>\n",
              "    <tr>\n",
              "      <th>2013-12-24</th>\n",
              "      <td>15.20</td>\n",
              "      <td>15.23</td>\n",
              "      <td>15.10</td>\n",
              "      <td>15.19</td>\n",
              "      <td>10.767890</td>\n",
              "      <td>22642200</td>\n",
              "      <td>434</td>\n",
              "    </tr>\n",
              "    <tr>\n",
              "      <th>2015-04-09</th>\n",
              "      <td>16.00</td>\n",
              "      <td>16.07</td>\n",
              "      <td>15.88</td>\n",
              "      <td>15.95</td>\n",
              "      <td>11.790772</td>\n",
              "      <td>23461900</td>\n",
              "      <td>757</td>\n",
              "    </tr>\n",
              "    <tr>\n",
              "      <th>2017-09-06</th>\n",
              "      <td>11.39</td>\n",
              "      <td>11.53</td>\n",
              "      <td>11.39</td>\n",
              "      <td>11.50</td>\n",
              "      <td>9.771225</td>\n",
              "      <td>43279000</td>\n",
              "      <td>1365</td>\n",
              "    </tr>\n",
              "    <tr>\n",
              "      <th>2013-03-05</th>\n",
              "      <td>12.87</td>\n",
              "      <td>12.98</td>\n",
              "      <td>12.79</td>\n",
              "      <td>12.87</td>\n",
              "      <td>8.952589</td>\n",
              "      <td>26863200</td>\n",
              "      <td>229</td>\n",
              "    </tr>\n",
              "    <tr>\n",
              "      <th>2012-04-09</th>\n",
              "      <td>12.26</td>\n",
              "      <td>12.29</td>\n",
              "      <td>12.11</td>\n",
              "      <td>12.22</td>\n",
              "      <td>8.316134</td>\n",
              "      <td>42515300</td>\n",
              "      <td>3</td>\n",
              "    </tr>\n",
              "  </tbody>\n",
              "</table>\n",
              "</div>"
            ],
            "text/plain": [
              "             Open   High    Low  Close  Adj Close    Volume   Num\n",
              "Date                                                             \n",
              "2013-12-24  15.20  15.23  15.10  15.19  10.767890  22642200   434\n",
              "2015-04-09  16.00  16.07  15.88  15.95  11.790772  23461900   757\n",
              "2017-09-06  11.39  11.53  11.39  11.50   9.771225  43279000  1365\n",
              "2013-03-05  12.87  12.98  12.79  12.87   8.952589  26863200   229\n",
              "2012-04-09  12.26  12.29  12.11  12.22   8.316134  42515300     3"
            ]
          },
          "metadata": {},
          "execution_count": 22
        }
      ]
    },
    {
      "cell_type": "markdown",
      "metadata": {
        "id": "2J2Pi7MKaMo6"
      },
      "source": [
        "PB: Valeur ne sont pas dans l'ordre"
      ]
    },
    {
      "cell_type": "code",
      "metadata": {
        "id": "FIiBeG2J9z13",
        "colab": {
          "base_uri": "https://localhost:8080/",
          "height": 237
        },
        "outputId": "34750506-cbf2-41c6-b49d-19ad2d8d237e"
      },
      "source": [
        "un_cinquième.head()"
      ],
      "execution_count": null,
      "outputs": [
        {
          "output_type": "execute_result",
          "data": {
            "text/html": [
              "<div>\n",
              "<style scoped>\n",
              "    .dataframe tbody tr th:only-of-type {\n",
              "        vertical-align: middle;\n",
              "    }\n",
              "\n",
              "    .dataframe tbody tr th {\n",
              "        vertical-align: top;\n",
              "    }\n",
              "\n",
              "    .dataframe thead th {\n",
              "        text-align: right;\n",
              "    }\n",
              "</style>\n",
              "<table border=\"1\" class=\"dataframe\">\n",
              "  <thead>\n",
              "    <tr style=\"text-align: right;\">\n",
              "      <th></th>\n",
              "      <th>Open</th>\n",
              "      <th>High</th>\n",
              "      <th>Low</th>\n",
              "      <th>Close</th>\n",
              "      <th>Adj Close</th>\n",
              "      <th>Volume</th>\n",
              "      <th>Num</th>\n",
              "    </tr>\n",
              "    <tr>\n",
              "      <th>Date</th>\n",
              "      <th></th>\n",
              "      <th></th>\n",
              "      <th></th>\n",
              "      <th></th>\n",
              "      <th></th>\n",
              "      <th></th>\n",
              "      <th></th>\n",
              "    </tr>\n",
              "  </thead>\n",
              "  <tbody>\n",
              "    <tr>\n",
              "      <th>2016-11-17</th>\n",
              "      <td>11.900000</td>\n",
              "      <td>11.960000</td>\n",
              "      <td>11.78</td>\n",
              "      <td>11.870000</td>\n",
              "      <td>9.669471</td>\n",
              "      <td>38502500</td>\n",
              "      <td>1165</td>\n",
              "    </tr>\n",
              "    <tr>\n",
              "      <th>2014-12-01</th>\n",
              "      <td>15.780000</td>\n",
              "      <td>15.890000</td>\n",
              "      <td>15.70</td>\n",
              "      <td>15.770000</td>\n",
              "      <td>11.539955</td>\n",
              "      <td>30022000</td>\n",
              "      <td>669</td>\n",
              "    </tr>\n",
              "    <tr>\n",
              "      <th>2013-11-22</th>\n",
              "      <td>17.120001</td>\n",
              "      <td>17.139999</td>\n",
              "      <td>17.00</td>\n",
              "      <td>17.010000</td>\n",
              "      <td>12.058052</td>\n",
              "      <td>29789000</td>\n",
              "      <td>413</td>\n",
              "    </tr>\n",
              "    <tr>\n",
              "      <th>2014-06-25</th>\n",
              "      <td>16.950001</td>\n",
              "      <td>17.260000</td>\n",
              "      <td>16.92</td>\n",
              "      <td>17.200001</td>\n",
              "      <td>12.386518</td>\n",
              "      <td>37496700</td>\n",
              "      <td>559</td>\n",
              "    </tr>\n",
              "    <tr>\n",
              "      <th>2017-02-28</th>\n",
              "      <td>12.630000</td>\n",
              "      <td>12.660000</td>\n",
              "      <td>12.45</td>\n",
              "      <td>12.530000</td>\n",
              "      <td>10.371615</td>\n",
              "      <td>36089800</td>\n",
              "      <td>1233</td>\n",
              "    </tr>\n",
              "  </tbody>\n",
              "</table>\n",
              "</div>"
            ],
            "text/plain": [
              "                 Open       High    Low      Close  Adj Close    Volume   Num\n",
              "Date                                                                         \n",
              "2016-11-17  11.900000  11.960000  11.78  11.870000   9.669471  38502500  1165\n",
              "2014-12-01  15.780000  15.890000  15.70  15.770000  11.539955  30022000   669\n",
              "2013-11-22  17.120001  17.139999  17.00  17.010000  12.058052  29789000   413\n",
              "2014-06-25  16.950001  17.260000  16.92  17.200001  12.386518  37496700   559\n",
              "2017-02-28  12.630000  12.660000  12.45  12.530000  10.371615  36089800  1233"
            ]
          },
          "metadata": {},
          "execution_count": 25
        }
      ]
    },
    {
      "cell_type": "code",
      "metadata": {
        "id": "4VZK4ZD2aMo9",
        "colab": {
          "base_uri": "https://localhost:8080/",
          "height": 237
        },
        "outputId": "d644914e-17b2-44d9-a6ca-d27e441abc84"
      },
      "source": [
        "un_dixieme.head()"
      ],
      "execution_count": null,
      "outputs": [
        {
          "output_type": "execute_result",
          "data": {
            "text/html": [
              "<div>\n",
              "<style scoped>\n",
              "    .dataframe tbody tr th:only-of-type {\n",
              "        vertical-align: middle;\n",
              "    }\n",
              "\n",
              "    .dataframe tbody tr th {\n",
              "        vertical-align: top;\n",
              "    }\n",
              "\n",
              "    .dataframe thead th {\n",
              "        text-align: right;\n",
              "    }\n",
              "</style>\n",
              "<table border=\"1\" class=\"dataframe\">\n",
              "  <thead>\n",
              "    <tr style=\"text-align: right;\">\n",
              "      <th></th>\n",
              "      <th>Open</th>\n",
              "      <th>High</th>\n",
              "      <th>Low</th>\n",
              "      <th>Close</th>\n",
              "      <th>Adj Close</th>\n",
              "      <th>Volume</th>\n",
              "      <th>Num</th>\n",
              "    </tr>\n",
              "    <tr>\n",
              "      <th>Date</th>\n",
              "      <th></th>\n",
              "      <th></th>\n",
              "      <th></th>\n",
              "      <th></th>\n",
              "      <th></th>\n",
              "      <th></th>\n",
              "      <th></th>\n",
              "    </tr>\n",
              "  </thead>\n",
              "  <tbody>\n",
              "    <tr>\n",
              "      <th>2013-12-24</th>\n",
              "      <td>15.20</td>\n",
              "      <td>15.23</td>\n",
              "      <td>15.10</td>\n",
              "      <td>15.19</td>\n",
              "      <td>10.767890</td>\n",
              "      <td>22642200</td>\n",
              "      <td>434</td>\n",
              "    </tr>\n",
              "    <tr>\n",
              "      <th>2015-04-09</th>\n",
              "      <td>16.00</td>\n",
              "      <td>16.07</td>\n",
              "      <td>15.88</td>\n",
              "      <td>15.95</td>\n",
              "      <td>11.790772</td>\n",
              "      <td>23461900</td>\n",
              "      <td>757</td>\n",
              "    </tr>\n",
              "    <tr>\n",
              "      <th>2017-09-06</th>\n",
              "      <td>11.39</td>\n",
              "      <td>11.53</td>\n",
              "      <td>11.39</td>\n",
              "      <td>11.50</td>\n",
              "      <td>9.771225</td>\n",
              "      <td>43279000</td>\n",
              "      <td>1365</td>\n",
              "    </tr>\n",
              "    <tr>\n",
              "      <th>2013-03-05</th>\n",
              "      <td>12.87</td>\n",
              "      <td>12.98</td>\n",
              "      <td>12.79</td>\n",
              "      <td>12.87</td>\n",
              "      <td>8.952589</td>\n",
              "      <td>26863200</td>\n",
              "      <td>229</td>\n",
              "    </tr>\n",
              "    <tr>\n",
              "      <th>2012-04-09</th>\n",
              "      <td>12.26</td>\n",
              "      <td>12.29</td>\n",
              "      <td>12.11</td>\n",
              "      <td>12.22</td>\n",
              "      <td>8.316134</td>\n",
              "      <td>42515300</td>\n",
              "      <td>3</td>\n",
              "    </tr>\n",
              "  </tbody>\n",
              "</table>\n",
              "</div>"
            ],
            "text/plain": [
              "             Open   High    Low  Close  Adj Close    Volume   Num\n",
              "Date                                                             \n",
              "2013-12-24  15.20  15.23  15.10  15.19  10.767890  22642200   434\n",
              "2015-04-09  16.00  16.07  15.88  15.95  11.790772  23461900   757\n",
              "2017-09-06  11.39  11.53  11.39  11.50   9.771225  43279000  1365\n",
              "2013-03-05  12.87  12.98  12.79  12.87   8.952589  26863200   229\n",
              "2012-04-09  12.26  12.29  12.11  12.22   8.316134  42515300     3"
            ]
          },
          "metadata": {},
          "execution_count": 23
        }
      ]
    },
    {
      "cell_type": "code",
      "metadata": {
        "id": "bQjKWI3gaMpU",
        "scrolled": true
      },
      "source": [
        "#### On enleve l'index de ce data frame\n",
        "\n",
        "un_dixieme.index.name = None\n",
        "un_dixieme.head()####Plus le nom de l'index Date\n",
        "\n",
        "un_vingtieme.index.name = None"
      ],
      "execution_count": null,
      "outputs": []
    },
    {
      "cell_type": "code",
      "metadata": {
        "id": "lGoP5Wo_aMpk"
      },
      "source": [
        "#### On tri les valeurs par Num\n",
        "\n",
        "un_dixieme = un_dixieme.sort_values(by = [\"Num\"], ascending = [True])\n",
        "un_dixieme[[\"Open\", \"Close\", \"Num\"]]#### Double crôchet\n",
        "un_vingtieme = un_vingtieme.sort_values(by = [\"Num\"], ascending = [True])"
      ],
      "execution_count": null,
      "outputs": []
    },
    {
      "cell_type": "code",
      "metadata": {
        "id": "oL-SpQRNaMps",
        "colab": {
          "base_uri": "https://localhost:8080/",
          "height": 573
        },
        "outputId": "8e8c09d1-6a8d-4240-a846-356f078edfc5"
      },
      "source": [
        "#### On trace le graphique original par rapport à l'echantillon de données\n",
        "\n",
        "#### Un dixième\n",
        "graph(\"Num\", \"Open\", un_dixieme)\n",
        "\n",
        "#### Un vingtième\n",
        "graph(\"Num\", \"Open\", un_vingtieme)\n"
      ],
      "execution_count": null,
      "outputs": [
        {
          "output_type": "display_data",
          "data": {
            "image/png": "[encoded data removed]",
            "text/plain": [
              "<Figure size 432x288 with 1 Axes>"
            ]
          },
          "metadata": {
            "needs_background": "light"
          }
        },
        {
          "output_type": "display_data",
          "data": {
            "image/png": "[encoded data removed]",
            "text/plain": [
              "<Figure size 432x288 with 1 Axes>"
            ]
          },
          "metadata": {
            "needs_background": "light"
          }
        }
      ]
    },
    {
      "cell_type": "code",
      "metadata": {
        "id": "eL9aphkRaMpz",
        "colab": {
          "base_uri": "https://localhost:8080/",
          "height": 336
        },
        "outputId": "8d9f4771-5b72-4c41-f002-37726be94a3a"
      },
      "source": [
        "#### On affiche les deux graphiques en même temps\n",
        "\n",
        "#### Sous graphique d'une ligne et 2 colonnes\n",
        "\n",
        "\n",
        "def trois_graph(x, y):\n",
        "    \n",
        "    \"\"\"\n",
        "        Fonction qui retourne trois graphiques (Action ford, 10% des valeurs aléatoires et 5% des valeurs)\n",
        "        \n",
        "        Entrée: Nom de colonne x et y\n",
        "        \n",
        "        Sortie: Trois graphiques\n",
        "    \n",
        "    \"\"\"\n",
        "    #### Une ligne et trois tableaux \n",
        "    fig, axes = plt.subplots(nrows = 1, ncols = 3, figsize = (10,5))\n",
        "    #### Affichage premier tableau \n",
        "    axes[0].plot(x, y, data = ford)\n",
        "    axes[0].set_title(\"Action Ford total\")\n",
        "    \n",
        "    #### Affichage second tableau 10%\n",
        "    axes[1].plot(x, y, data = un_dixieme)\n",
        "    axes[1].set_title(\"Echantillon 10%\")\n",
        "    \n",
        "    #### Affichage troisième tableau 5%\n",
        "    axes[2].plot(x, y, data = un_vingtieme)\n",
        "    axes[2].set_title(\"Echantillon 5%\")\n",
        "\n",
        "\n",
        "trois_graph(\"Num\", \"Open\" ) #### Appel de la fonction"
      ],
      "execution_count": null,
      "outputs": [
        {
          "output_type": "display_data",
          "data": {
            "image/png": "[encoded data removed]",
            "text/plain": [
              "<Figure size 720x360 with 3 Axes>"
            ]
          },
          "metadata": {
            "needs_background": "light"
          }
        }
      ]
    },
    {
      "cell_type": "code",
      "metadata": {
        "id": "L_Igh2XXaMp8",
        "colab": {
          "base_uri": "https://localhost:8080/",
          "height": 143
        },
        "outputId": "e5aeb7eb-c327-46ab-8a81-9d31a7d67184"
      },
      "source": [
        "#### Modification de l'index pour que ce soit la variable \"Num\"\n",
        "\n",
        "ford = ford.reset_index()\n",
        "ford.head(3)\n",
        "\n",
        "# ford.index = ford[\"Num\"]\n",
        "# ford"
      ],
      "execution_count": null,
      "outputs": [
        {
          "output_type": "execute_result",
          "data": {
            "text/html": [
              "<div>\n",
              "<style scoped>\n",
              "    .dataframe tbody tr th:only-of-type {\n",
              "        vertical-align: middle;\n",
              "    }\n",
              "\n",
              "    .dataframe tbody tr th {\n",
              "        vertical-align: top;\n",
              "    }\n",
              "\n",
              "    .dataframe thead th {\n",
              "        text-align: right;\n",
              "    }\n",
              "</style>\n",
              "<table border=\"1\" class=\"dataframe\">\n",
              "  <thead>\n",
              "    <tr style=\"text-align: right;\">\n",
              "      <th></th>\n",
              "      <th>Date</th>\n",
              "      <th>Open</th>\n",
              "      <th>High</th>\n",
              "      <th>Low</th>\n",
              "      <th>Close</th>\n",
              "      <th>Adj Close</th>\n",
              "      <th>Volume</th>\n",
              "      <th>Num</th>\n",
              "    </tr>\n",
              "  </thead>\n",
              "  <tbody>\n",
              "    <tr>\n",
              "      <th>0</th>\n",
              "      <td>2012-04-04</td>\n",
              "      <td>12.46</td>\n",
              "      <td>12.52</td>\n",
              "      <td>12.32</td>\n",
              "      <td>12.51</td>\n",
              "      <td>8.513487</td>\n",
              "      <td>51505000</td>\n",
              "      <td>1</td>\n",
              "    </tr>\n",
              "    <tr>\n",
              "      <th>1</th>\n",
              "      <td>2012-04-05</td>\n",
              "      <td>12.38</td>\n",
              "      <td>12.58</td>\n",
              "      <td>12.38</td>\n",
              "      <td>12.47</td>\n",
              "      <td>8.486265</td>\n",
              "      <td>37939500</td>\n",
              "      <td>2</td>\n",
              "    </tr>\n",
              "    <tr>\n",
              "      <th>2</th>\n",
              "      <td>2012-04-09</td>\n",
              "      <td>12.26</td>\n",
              "      <td>12.29</td>\n",
              "      <td>12.11</td>\n",
              "      <td>12.22</td>\n",
              "      <td>8.316134</td>\n",
              "      <td>42515300</td>\n",
              "      <td>3</td>\n",
              "    </tr>\n",
              "  </tbody>\n",
              "</table>\n",
              "</div>"
            ],
            "text/plain": [
              "        Date   Open   High    Low  Close  Adj Close    Volume  Num\n",
              "0 2012-04-04  12.46  12.52  12.32  12.51   8.513487  51505000    1\n",
              "1 2012-04-05  12.38  12.58  12.38  12.47   8.486265  37939500    2\n",
              "2 2012-04-09  12.26  12.29  12.11  12.22   8.316134  42515300    3"
            ]
          },
          "metadata": {},
          "execution_count": 32
        }
      ]
    },
    {
      "cell_type": "markdown",
      "metadata": {
        "id": "8j0MAxfzaMqE"
      },
      "source": [
        "On génère une moyenne mobile avec une fenètre de 80 cotations. On place les résultats dans la colonne \"**Moyenne mobile**\"."
      ]
    },
    {
      "cell_type": "code",
      "metadata": {
        "id": "4wYZgEdzaMqG",
        "colab": {
          "base_uri": "https://localhost:8080/",
          "height": 206
        },
        "outputId": "f0997a19-c045-4a08-a930-c0b09f7dc9e4"
      },
      "source": [
        "#### Moyenne mobile \n",
        "\n",
        "#### Moyenne mobile à fenètre de 80\n",
        "ford[\"Moyenne_Mobile\"] = ford[\"Open\"].rolling(window =80).mean()\n",
        "\n",
        "ford[[\"Open\", \"Moyenne_Mobile\"]].tail(5) #### 5 dernières colonnes de notre dataset\n",
        "\n",
        "#ford"
      ],
      "execution_count": null,
      "outputs": [
        {
          "output_type": "execute_result",
          "data": {
            "text/html": [
              "<div>\n",
              "<style scoped>\n",
              "    .dataframe tbody tr th:only-of-type {\n",
              "        vertical-align: middle;\n",
              "    }\n",
              "\n",
              "    .dataframe tbody tr th {\n",
              "        vertical-align: top;\n",
              "    }\n",
              "\n",
              "    .dataframe thead th {\n",
              "        text-align: right;\n",
              "    }\n",
              "</style>\n",
              "<table border=\"1\" class=\"dataframe\">\n",
              "  <thead>\n",
              "    <tr style=\"text-align: right;\">\n",
              "      <th></th>\n",
              "      <th>Open</th>\n",
              "      <th>Moyenne_Mobile</th>\n",
              "    </tr>\n",
              "  </thead>\n",
              "  <tbody>\n",
              "    <tr>\n",
              "      <th>1755</th>\n",
              "      <td>8.65</td>\n",
              "      <td>8.571125</td>\n",
              "    </tr>\n",
              "    <tr>\n",
              "      <th>1756</th>\n",
              "      <td>8.80</td>\n",
              "      <td>8.564000</td>\n",
              "    </tr>\n",
              "    <tr>\n",
              "      <th>1757</th>\n",
              "      <td>8.86</td>\n",
              "      <td>8.553375</td>\n",
              "    </tr>\n",
              "    <tr>\n",
              "      <th>1758</th>\n",
              "      <td>8.95</td>\n",
              "      <td>8.545875</td>\n",
              "    </tr>\n",
              "    <tr>\n",
              "      <th>1759</th>\n",
              "      <td>9.07</td>\n",
              "      <td>8.545250</td>\n",
              "    </tr>\n",
              "  </tbody>\n",
              "</table>\n",
              "</div>"
            ],
            "text/plain": [
              "      Open  Moyenne_Mobile\n",
              "1755  8.65        8.571125\n",
              "1756  8.80        8.564000\n",
              "1757  8.86        8.553375\n",
              "1758  8.95        8.545875\n",
              "1759  9.07        8.545250"
            ]
          },
          "metadata": {},
          "execution_count": 33
        }
      ]
    },
    {
      "cell_type": "code",
      "metadata": {
        "id": "-u0tBQIONg-L",
        "colab": {
          "base_uri": "https://localhost:8080/",
          "height": 424
        },
        "outputId": "bb36a173-e367-4c33-b62a-a908e7ccd1c9"
      },
      "source": [
        "ford[\"Moyenne_Mobile\"] = ford[\"Open\"].rolling(window =80).mean()\n",
        "ford.head(83)"
      ],
      "execution_count": null,
      "outputs": [
        {
          "output_type": "execute_result",
          "data": {
            "text/html": [
              "<div>\n",
              "<style scoped>\n",
              "    .dataframe tbody tr th:only-of-type {\n",
              "        vertical-align: middle;\n",
              "    }\n",
              "\n",
              "    .dataframe tbody tr th {\n",
              "        vertical-align: top;\n",
              "    }\n",
              "\n",
              "    .dataframe thead th {\n",
              "        text-align: right;\n",
              "    }\n",
              "</style>\n",
              "<table border=\"1\" class=\"dataframe\">\n",
              "  <thead>\n",
              "    <tr style=\"text-align: right;\">\n",
              "      <th></th>\n",
              "      <th>Date</th>\n",
              "      <th>Open</th>\n",
              "      <th>High</th>\n",
              "      <th>Low</th>\n",
              "      <th>Close</th>\n",
              "      <th>Adj Close</th>\n",
              "      <th>Volume</th>\n",
              "      <th>Num</th>\n",
              "      <th>Moyenne_Mobile</th>\n",
              "    </tr>\n",
              "  </thead>\n",
              "  <tbody>\n",
              "    <tr>\n",
              "      <th>0</th>\n",
              "      <td>2012-04-04</td>\n",
              "      <td>12.46</td>\n",
              "      <td>12.52</td>\n",
              "      <td>12.32</td>\n",
              "      <td>12.51</td>\n",
              "      <td>8.513487</td>\n",
              "      <td>51505000</td>\n",
              "      <td>1</td>\n",
              "      <td>NaN</td>\n",
              "    </tr>\n",
              "    <tr>\n",
              "      <th>1</th>\n",
              "      <td>2012-04-05</td>\n",
              "      <td>12.38</td>\n",
              "      <td>12.58</td>\n",
              "      <td>12.38</td>\n",
              "      <td>12.47</td>\n",
              "      <td>8.486265</td>\n",
              "      <td>37939500</td>\n",
              "      <td>2</td>\n",
              "      <td>NaN</td>\n",
              "    </tr>\n",
              "    <tr>\n",
              "      <th>2</th>\n",
              "      <td>2012-04-09</td>\n",
              "      <td>12.26</td>\n",
              "      <td>12.29</td>\n",
              "      <td>12.11</td>\n",
              "      <td>12.22</td>\n",
              "      <td>8.316134</td>\n",
              "      <td>42515300</td>\n",
              "      <td>3</td>\n",
              "      <td>NaN</td>\n",
              "    </tr>\n",
              "    <tr>\n",
              "      <th>3</th>\n",
              "      <td>2012-04-10</td>\n",
              "      <td>12.19</td>\n",
              "      <td>12.28</td>\n",
              "      <td>11.65</td>\n",
              "      <td>11.79</td>\n",
              "      <td>8.023501</td>\n",
              "      <td>77370300</td>\n",
              "      <td>4</td>\n",
              "      <td>NaN</td>\n",
              "    </tr>\n",
              "    <tr>\n",
              "      <th>4</th>\n",
              "      <td>2012-04-11</td>\n",
              "      <td>11.99</td>\n",
              "      <td>12.02</td>\n",
              "      <td>11.88</td>\n",
              "      <td>11.91</td>\n",
              "      <td>8.105167</td>\n",
              "      <td>34724400</td>\n",
              "      <td>5</td>\n",
              "      <td>NaN</td>\n",
              "    </tr>\n",
              "    <tr>\n",
              "      <th>...</th>\n",
              "      <td>...</td>\n",
              "      <td>...</td>\n",
              "      <td>...</td>\n",
              "      <td>...</td>\n",
              "      <td>...</td>\n",
              "      <td>...</td>\n",
              "      <td>...</td>\n",
              "      <td>...</td>\n",
              "      <td>...</td>\n",
              "    </tr>\n",
              "    <tr>\n",
              "      <th>78</th>\n",
              "      <td>2012-07-26</td>\n",
              "      <td>9.05</td>\n",
              "      <td>9.11</td>\n",
              "      <td>8.83</td>\n",
              "      <td>8.96</td>\n",
              "      <td>6.123986</td>\n",
              "      <td>51798900</td>\n",
              "      <td>79</td>\n",
              "      <td>NaN</td>\n",
              "    </tr>\n",
              "    <tr>\n",
              "      <th>79</th>\n",
              "      <td>2012-07-27</td>\n",
              "      <td>8.99</td>\n",
              "      <td>9.10</td>\n",
              "      <td>8.88</td>\n",
              "      <td>9.00</td>\n",
              "      <td>6.151327</td>\n",
              "      <td>67986800</td>\n",
              "      <td>80</td>\n",
              "      <td>10.500000</td>\n",
              "    </tr>\n",
              "    <tr>\n",
              "      <th>80</th>\n",
              "      <td>2012-07-30</td>\n",
              "      <td>9.04</td>\n",
              "      <td>9.18</td>\n",
              "      <td>9.01</td>\n",
              "      <td>9.10</td>\n",
              "      <td>6.219674</td>\n",
              "      <td>40958300</td>\n",
              "      <td>81</td>\n",
              "      <td>10.457250</td>\n",
              "    </tr>\n",
              "    <tr>\n",
              "      <th>81</th>\n",
              "      <td>2012-07-31</td>\n",
              "      <td>9.13</td>\n",
              "      <td>9.28</td>\n",
              "      <td>9.12</td>\n",
              "      <td>9.24</td>\n",
              "      <td>6.315360</td>\n",
              "      <td>41360900</td>\n",
              "      <td>82</td>\n",
              "      <td>10.416625</td>\n",
              "    </tr>\n",
              "    <tr>\n",
              "      <th>82</th>\n",
              "      <td>2012-08-01</td>\n",
              "      <td>9.29</td>\n",
              "      <td>9.42</td>\n",
              "      <td>8.99</td>\n",
              "      <td>9.04</td>\n",
              "      <td>6.212281</td>\n",
              "      <td>65973000</td>\n",
              "      <td>83</td>\n",
              "      <td>10.379500</td>\n",
              "    </tr>\n",
              "  </tbody>\n",
              "</table>\n",
              "<p>83 rows × 9 columns</p>\n",
              "</div>"
            ],
            "text/plain": [
              "         Date   Open   High    Low  ...  Adj Close    Volume  Num  Moyenne_Mobile\n",
              "0  2012-04-04  12.46  12.52  12.32  ...   8.513487  51505000    1             NaN\n",
              "1  2012-04-05  12.38  12.58  12.38  ...   8.486265  37939500    2             NaN\n",
              "2  2012-04-09  12.26  12.29  12.11  ...   8.316134  42515300    3             NaN\n",
              "3  2012-04-10  12.19  12.28  11.65  ...   8.023501  77370300    4             NaN\n",
              "4  2012-04-11  11.99  12.02  11.88  ...   8.105167  34724400    5             NaN\n",
              "..        ...    ...    ...    ...  ...        ...       ...  ...             ...\n",
              "78 2012-07-26   9.05   9.11   8.83  ...   6.123986  51798900   79             NaN\n",
              "79 2012-07-27   8.99   9.10   8.88  ...   6.151327  67986800   80       10.500000\n",
              "80 2012-07-30   9.04   9.18   9.01  ...   6.219674  40958300   81       10.457250\n",
              "81 2012-07-31   9.13   9.28   9.12  ...   6.315360  41360900   82       10.416625\n",
              "82 2012-08-01   9.29   9.42   8.99  ...   6.212281  65973000   83       10.379500\n",
              "\n",
              "[83 rows x 9 columns]"
            ]
          },
          "metadata": {},
          "execution_count": 34
        }
      ]
    },
    {
      "cell_type": "code",
      "metadata": {
        "id": "4b9WS4diNg-a",
        "colab": {
          "base_uri": "https://localhost:8080/",
          "height": 363
        },
        "outputId": "0f296395-d69f-48d8-b329-27c431663399"
      },
      "source": [
        "ford.tail(10)"
      ],
      "execution_count": null,
      "outputs": [
        {
          "output_type": "execute_result",
          "data": {
            "text/html": [
              "<div>\n",
              "<style scoped>\n",
              "    .dataframe tbody tr th:only-of-type {\n",
              "        vertical-align: middle;\n",
              "    }\n",
              "\n",
              "    .dataframe tbody tr th {\n",
              "        vertical-align: top;\n",
              "    }\n",
              "\n",
              "    .dataframe thead th {\n",
              "        text-align: right;\n",
              "    }\n",
              "</style>\n",
              "<table border=\"1\" class=\"dataframe\">\n",
              "  <thead>\n",
              "    <tr style=\"text-align: right;\">\n",
              "      <th></th>\n",
              "      <th>Date</th>\n",
              "      <th>Open</th>\n",
              "      <th>High</th>\n",
              "      <th>Low</th>\n",
              "      <th>Close</th>\n",
              "      <th>Adj Close</th>\n",
              "      <th>Volume</th>\n",
              "      <th>Num</th>\n",
              "      <th>Moyenne_Mobile</th>\n",
              "    </tr>\n",
              "  </thead>\n",
              "  <tbody>\n",
              "    <tr>\n",
              "      <th>1750</th>\n",
              "      <td>2019-03-21</td>\n",
              "      <td>8.50</td>\n",
              "      <td>8.69</td>\n",
              "      <td>8.49</td>\n",
              "      <td>8.69</td>\n",
              "      <td>8.152303</td>\n",
              "      <td>46843100</td>\n",
              "      <td>1751</td>\n",
              "      <td>8.610875</td>\n",
              "    </tr>\n",
              "    <tr>\n",
              "      <th>1751</th>\n",
              "      <td>2019-03-22</td>\n",
              "      <td>8.63</td>\n",
              "      <td>8.67</td>\n",
              "      <td>8.52</td>\n",
              "      <td>8.54</td>\n",
              "      <td>8.011583</td>\n",
              "      <td>41964000</td>\n",
              "      <td>1752</td>\n",
              "      <td>8.605375</td>\n",
              "    </tr>\n",
              "    <tr>\n",
              "      <th>1752</th>\n",
              "      <td>2019-03-25</td>\n",
              "      <td>8.56</td>\n",
              "      <td>8.65</td>\n",
              "      <td>8.47</td>\n",
              "      <td>8.51</td>\n",
              "      <td>7.983440</td>\n",
              "      <td>45849500</td>\n",
              "      <td>1753</td>\n",
              "      <td>8.597000</td>\n",
              "    </tr>\n",
              "    <tr>\n",
              "      <th>1753</th>\n",
              "      <td>2019-03-26</td>\n",
              "      <td>8.54</td>\n",
              "      <td>8.76</td>\n",
              "      <td>8.54</td>\n",
              "      <td>8.76</td>\n",
              "      <td>8.217972</td>\n",
              "      <td>47852100</td>\n",
              "      <td>1754</td>\n",
              "      <td>8.586625</td>\n",
              "    </tr>\n",
              "    <tr>\n",
              "      <th>1754</th>\n",
              "      <td>2019-03-27</td>\n",
              "      <td>8.75</td>\n",
              "      <td>8.86</td>\n",
              "      <td>8.62</td>\n",
              "      <td>8.62</td>\n",
              "      <td>8.086635</td>\n",
              "      <td>39895800</td>\n",
              "      <td>1755</td>\n",
              "      <td>8.580125</td>\n",
              "    </tr>\n",
              "    <tr>\n",
              "      <th>1755</th>\n",
              "      <td>2019-03-28</td>\n",
              "      <td>8.65</td>\n",
              "      <td>8.83</td>\n",
              "      <td>8.64</td>\n",
              "      <td>8.77</td>\n",
              "      <td>8.227353</td>\n",
              "      <td>38914700</td>\n",
              "      <td>1756</td>\n",
              "      <td>8.571125</td>\n",
              "    </tr>\n",
              "    <tr>\n",
              "      <th>1756</th>\n",
              "      <td>2019-03-29</td>\n",
              "      <td>8.80</td>\n",
              "      <td>8.89</td>\n",
              "      <td>8.71</td>\n",
              "      <td>8.78</td>\n",
              "      <td>8.236733</td>\n",
              "      <td>33962800</td>\n",
              "      <td>1757</td>\n",
              "      <td>8.564000</td>\n",
              "    </tr>\n",
              "    <tr>\n",
              "      <th>1757</th>\n",
              "      <td>2019-04-01</td>\n",
              "      <td>8.86</td>\n",
              "      <td>9.00</td>\n",
              "      <td>8.86</td>\n",
              "      <td>8.98</td>\n",
              "      <td>8.424358</td>\n",
              "      <td>45653100</td>\n",
              "      <td>1758</td>\n",
              "      <td>8.553375</td>\n",
              "    </tr>\n",
              "    <tr>\n",
              "      <th>1758</th>\n",
              "      <td>2019-04-02</td>\n",
              "      <td>8.95</td>\n",
              "      <td>9.03</td>\n",
              "      <td>8.91</td>\n",
              "      <td>9.01</td>\n",
              "      <td>8.452502</td>\n",
              "      <td>30699400</td>\n",
              "      <td>1759</td>\n",
              "      <td>8.545875</td>\n",
              "    </tr>\n",
              "    <tr>\n",
              "      <th>1759</th>\n",
              "      <td>2019-04-03</td>\n",
              "      <td>9.07</td>\n",
              "      <td>9.27</td>\n",
              "      <td>9.06</td>\n",
              "      <td>9.13</td>\n",
              "      <td>8.565077</td>\n",
              "      <td>56663600</td>\n",
              "      <td>1760</td>\n",
              "      <td>8.545250</td>\n",
              "    </tr>\n",
              "  </tbody>\n",
              "</table>\n",
              "</div>"
            ],
            "text/plain": [
              "           Date  Open  High   Low  ...  Adj Close    Volume   Num  Moyenne_Mobile\n",
              "1750 2019-03-21  8.50  8.69  8.49  ...   8.152303  46843100  1751        8.610875\n",
              "1751 2019-03-22  8.63  8.67  8.52  ...   8.011583  41964000  1752        8.605375\n",
              "1752 2019-03-25  8.56  8.65  8.47  ...   7.983440  45849500  1753        8.597000\n",
              "1753 2019-03-26  8.54  8.76  8.54  ...   8.217972  47852100  1754        8.586625\n",
              "1754 2019-03-27  8.75  8.86  8.62  ...   8.086635  39895800  1755        8.580125\n",
              "1755 2019-03-28  8.65  8.83  8.64  ...   8.227353  38914700  1756        8.571125\n",
              "1756 2019-03-29  8.80  8.89  8.71  ...   8.236733  33962800  1757        8.564000\n",
              "1757 2019-04-01  8.86  9.00  8.86  ...   8.424358  45653100  1758        8.553375\n",
              "1758 2019-04-02  8.95  9.03  8.91  ...   8.452502  30699400  1759        8.545875\n",
              "1759 2019-04-03  9.07  9.27  9.06  ...   8.565077  56663600  1760        8.545250\n",
              "\n",
              "[10 rows x 9 columns]"
            ]
          },
          "metadata": {},
          "execution_count": 35
        }
      ]
    },
    {
      "cell_type": "code",
      "metadata": {
        "id": "NRT3hjjnaMqN"
      },
      "source": [
        "#On trace les 4 graphiques cote à cote."
      ],
      "execution_count": null,
      "outputs": []
    },
    {
      "cell_type": "code",
      "metadata": {
        "id": "1D_xp1tuaMqV",
        "colab": {
          "base_uri": "https://localhost:8080/",
          "height": 355
        },
        "outputId": "519104bc-1d0c-44f4-a61b-245d3bd8a59a"
      },
      "source": [
        "#### On affiche les 4 graphiques en même temps\n",
        "\n",
        "#### Sous graphique d'une ligne et 2 colonnes\n",
        "fig, axes = plt.subplots(nrows = 1, ncols = 4, figsize = (10,5))\n",
        "\n",
        "axes[0].plot(\"Num\", \"Open\", data = ford)\n",
        "axes[0].set_title(\"Original Plot\")\n",
        "axes[1].plot(\"Num\", \"Open\", data = un_dixieme)\n",
        "axes[1].set_title(\"Echantillon 10%\")\n",
        "axes[2].plot(\"Num\", \"Open\", data = un_vingtieme)\n",
        "axes[2].set_title(\"Echantillon 5%\")\n",
        "axes[3].plot(\"Num\", \"Moyenne_Mobile\", data = ford)\n",
        "axes[3].set_title(\"Moyenne Mobile à 80 cotations\")"
      ],
      "execution_count": null,
      "outputs": [
        {
          "output_type": "execute_result",
          "data": {
            "text/plain": [
              "Text(0.5, 1.0, 'Moyenne Mobile à 80 cotations')"
            ]
          },
          "metadata": {},
          "execution_count": 38
        },
        {
          "output_type": "display_data",
          "data": {
            "image/png": "[encoded data removed]",
            "text/plain": [
              "<Figure size 720x360 with 4 Axes>"
            ]
          },
          "metadata": {
            "needs_background": "light"
          }
        }
      ]
    },
    {
      "cell_type": "markdown",
      "metadata": {
        "id": "C6ty-B1aaMqc"
      },
      "source": [
        "La moyenne mobile semble bien fitter les graphiques précedents. Qu'en est t-il si nous les superposons?"
      ]
    },
    {
      "cell_type": "code",
      "metadata": {
        "id": "7LQkV_Q3aMqe"
      },
      "source": [
        "##### On affiche les données originale et les données lissée sur le même graphique\n",
        "\n",
        "\n",
        "def sup_graph(x, y1, y2):\n",
        "    \"\"\"\n",
        "        Entrée: Nombre de cotation(x), prix moyenne mobile (y1), prix high (y2)\n",
        "        \n",
        "        Sortie: Graphique\n",
        "    \n",
        "    \"\"\"\n",
        "    fig = plt.figure()\n",
        "    ax = fig.add_subplot(111);\n",
        "    #### Graphique 1: Moyenne mobile\n",
        "    ax.plot(ford[x], ford[y1], color = (0,0,0), linewidth = 4, alpha =.9, label = \"Lissé MM\")\n",
        "    \n",
        "    #### Graphique 2: Plus haut de cotation\n",
        "    ax.plot(ford[x], ford[y2], color = (1,0,0), label = \"Original\")\n",
        "\n",
        "    ax.set_title('Les données originales et lissées')\n",
        "\n",
        "    ax.set_xlabel('Num')\n",
        "    ax.set_ylabel(\"Prix\")\n",
        "    ax.legend(loc = \"lower right\")"
      ],
      "execution_count": null,
      "outputs": []
    },
    {
      "cell_type": "code",
      "metadata": {
        "id": "FO5N743KaMqk",
        "colab": {
          "base_uri": "https://localhost:8080/",
          "height": 295
        },
        "outputId": "072dc8b5-75dd-4e9b-9115-8e3984f5dda0"
      },
      "source": [
        "sup_graph(\"Num\", \"Moyenne_Mobile\", \"High\")"
      ],
      "execution_count": null,
      "outputs": [
        {
          "output_type": "display_data",
          "data": {
            "image/png": "[encoded data removed]",
            "text/plain": [
              "<Figure size 432x288 with 1 Axes>"
            ]
          },
          "metadata": {
            "needs_background": "light"
          }
        }
      ]
    },
    {
      "cell_type": "markdown",
      "metadata": {
        "id": "4Z6GAP9haMqu"
      },
      "source": [
        "Le même code mais avec les dates en abscisses:"
      ]
    },
    {
      "cell_type": "code",
      "metadata": {
        "id": "Mp0LGhGSaMqv",
        "colab": {
          "base_uri": "https://localhost:8080/",
          "height": 295
        },
        "outputId": "f4d716b7-0518-4222-ab9c-46427d31651b"
      },
      "source": [
        "sup_graph(\"Date\", \"Moyenne_Mobile\", \"High\")"
      ],
      "execution_count": null,
      "outputs": [
        {
          "output_type": "display_data",
          "data": {
            "image/png": "[encoded data removed]",
            "text/plain": [
              "<Figure size 432x288 with 1 Axes>"
            ]
          },
          "metadata": {
            "needs_background": "light"
          }
        }
      ]
    },
    {
      "cell_type": "markdown",
      "metadata": {
        "id": "-DIRwIgaaMq4"
      },
      "source": [
        "On prendra ici les cotations entre 200 et 400."
      ]
    },
    {
      "cell_type": "code",
      "metadata": {
        "id": "spmxkkiTaMq6"
      },
      "source": [
        "#### Cotation entre 5000 et 10000"
      ],
      "execution_count": null,
      "outputs": []
    },
    {
      "cell_type": "code",
      "metadata": {
        "id": "D6GEijmtaMrD"
      },
      "source": [
        "Num_ford = ford[(ford[\"Num\"] >= 200) & (ford[\"Num\"]<=400)]"
      ],
      "execution_count": null,
      "outputs": []
    },
    {
      "cell_type": "code",
      "metadata": {
        "id": "EsLCe24ZaMrJ",
        "colab": {
          "base_uri": "https://localhost:8080/",
          "height": 363
        },
        "outputId": "c843e22c-9050-4e31-da8e-5ce72afa8735"
      },
      "source": [
        "Num_ford[:10]"
      ],
      "execution_count": null,
      "outputs": [
        {
          "output_type": "execute_result",
          "data": {
            "text/html": [
              "<div>\n",
              "<style scoped>\n",
              "    .dataframe tbody tr th:only-of-type {\n",
              "        vertical-align: middle;\n",
              "    }\n",
              "\n",
              "    .dataframe tbody tr th {\n",
              "        vertical-align: top;\n",
              "    }\n",
              "\n",
              "    .dataframe thead th {\n",
              "        text-align: right;\n",
              "    }\n",
              "</style>\n",
              "<table border=\"1\" class=\"dataframe\">\n",
              "  <thead>\n",
              "    <tr style=\"text-align: right;\">\n",
              "      <th></th>\n",
              "      <th>Date</th>\n",
              "      <th>Open</th>\n",
              "      <th>High</th>\n",
              "      <th>Low</th>\n",
              "      <th>Close</th>\n",
              "      <th>Adj Close</th>\n",
              "      <th>Volume</th>\n",
              "      <th>Num</th>\n",
              "      <th>Moyenne_Mobile</th>\n",
              "    </tr>\n",
              "  </thead>\n",
              "  <tbody>\n",
              "    <tr>\n",
              "      <th>199</th>\n",
              "      <td>2013-01-22</td>\n",
              "      <td>14.06</td>\n",
              "      <td>14.19</td>\n",
              "      <td>14.00</td>\n",
              "      <td>14.17</td>\n",
              "      <td>9.784837</td>\n",
              "      <td>35467900</td>\n",
              "      <td>200</td>\n",
              "      <td>11.402125</td>\n",
              "    </tr>\n",
              "    <tr>\n",
              "      <th>200</th>\n",
              "      <td>2013-01-23</td>\n",
              "      <td>14.00</td>\n",
              "      <td>14.02</td>\n",
              "      <td>13.79</td>\n",
              "      <td>13.88</td>\n",
              "      <td>9.584584</td>\n",
              "      <td>58122200</td>\n",
              "      <td>201</td>\n",
              "      <td>11.447750</td>\n",
              "    </tr>\n",
              "    <tr>\n",
              "      <th>201</th>\n",
              "      <td>2013-01-24</td>\n",
              "      <td>13.82</td>\n",
              "      <td>13.98</td>\n",
              "      <td>13.81</td>\n",
              "      <td>13.87</td>\n",
              "      <td>9.577678</td>\n",
              "      <td>42532700</td>\n",
              "      <td>202</td>\n",
              "      <td>11.495750</td>\n",
              "    </tr>\n",
              "    <tr>\n",
              "      <th>202</th>\n",
              "      <td>2013-01-25</td>\n",
              "      <td>13.83</td>\n",
              "      <td>13.84</td>\n",
              "      <td>13.64</td>\n",
              "      <td>13.68</td>\n",
              "      <td>9.446476</td>\n",
              "      <td>53405400</td>\n",
              "      <td>203</td>\n",
              "      <td>11.542000</td>\n",
              "    </tr>\n",
              "    <tr>\n",
              "      <th>203</th>\n",
              "      <td>2013-01-28</td>\n",
              "      <td>13.49</td>\n",
              "      <td>13.82</td>\n",
              "      <td>13.42</td>\n",
              "      <td>13.78</td>\n",
              "      <td>9.585600</td>\n",
              "      <td>51189300</td>\n",
              "      <td>204</td>\n",
              "      <td>11.585750</td>\n",
              "    </tr>\n",
              "    <tr>\n",
              "      <th>204</th>\n",
              "      <td>2013-01-29</td>\n",
              "      <td>13.56</td>\n",
              "      <td>13.61</td>\n",
              "      <td>12.89</td>\n",
              "      <td>13.14</td>\n",
              "      <td>9.140408</td>\n",
              "      <td>131146500</td>\n",
              "      <td>205</td>\n",
              "      <td>11.631625</td>\n",
              "    </tr>\n",
              "    <tr>\n",
              "      <th>205</th>\n",
              "      <td>2013-01-30</td>\n",
              "      <td>13.01</td>\n",
              "      <td>13.20</td>\n",
              "      <td>12.89</td>\n",
              "      <td>12.93</td>\n",
              "      <td>8.994326</td>\n",
              "      <td>59595900</td>\n",
              "      <td>206</td>\n",
              "      <td>11.669125</td>\n",
              "    </tr>\n",
              "    <tr>\n",
              "      <th>206</th>\n",
              "      <td>2013-01-31</td>\n",
              "      <td>12.86</td>\n",
              "      <td>13.02</td>\n",
              "      <td>12.67</td>\n",
              "      <td>12.95</td>\n",
              "      <td>9.008239</td>\n",
              "      <td>65844000</td>\n",
              "      <td>207</td>\n",
              "      <td>11.707125</td>\n",
              "    </tr>\n",
              "    <tr>\n",
              "      <th>207</th>\n",
              "      <td>2013-02-01</td>\n",
              "      <td>13.10</td>\n",
              "      <td>13.13</td>\n",
              "      <td>12.94</td>\n",
              "      <td>13.02</td>\n",
              "      <td>9.056931</td>\n",
              "      <td>45222500</td>\n",
              "      <td>208</td>\n",
              "      <td>11.745125</td>\n",
              "    </tr>\n",
              "    <tr>\n",
              "      <th>208</th>\n",
              "      <td>2013-02-04</td>\n",
              "      <td>12.94</td>\n",
              "      <td>13.00</td>\n",
              "      <td>12.86</td>\n",
              "      <td>12.88</td>\n",
              "      <td>8.959544</td>\n",
              "      <td>32702200</td>\n",
              "      <td>209</td>\n",
              "      <td>11.779750</td>\n",
              "    </tr>\n",
              "  </tbody>\n",
              "</table>\n",
              "</div>"
            ],
            "text/plain": [
              "          Date   Open   High    Low  ...  Adj Close     Volume  Num  Moyenne_Mobile\n",
              "199 2013-01-22  14.06  14.19  14.00  ...   9.784837   35467900  200       11.402125\n",
              "200 2013-01-23  14.00  14.02  13.79  ...   9.584584   58122200  201       11.447750\n",
              "201 2013-01-24  13.82  13.98  13.81  ...   9.577678   42532700  202       11.495750\n",
              "202 2013-01-25  13.83  13.84  13.64  ...   9.446476   53405400  203       11.542000\n",
              "203 2013-01-28  13.49  13.82  13.42  ...   9.585600   51189300  204       11.585750\n",
              "204 2013-01-29  13.56  13.61  12.89  ...   9.140408  131146500  205       11.631625\n",
              "205 2013-01-30  13.01  13.20  12.89  ...   8.994326   59595900  206       11.669125\n",
              "206 2013-01-31  12.86  13.02  12.67  ...   9.008239   65844000  207       11.707125\n",
              "207 2013-02-01  13.10  13.13  12.94  ...   9.056931   45222500  208       11.745125\n",
              "208 2013-02-04  12.94  13.00  12.86  ...   8.959544   32702200  209       11.779750\n",
              "\n",
              "[10 rows x 9 columns]"
            ]
          },
          "metadata": {},
          "execution_count": 44
        }
      ]
    },
    {
      "cell_type": "markdown",
      "metadata": {
        "id": "JnQZS96CaMrP"
      },
      "source": [
        "Dans cette partie, on cherchera à prédire notre moyenne mobile à l'aide d'une régression linéaire"
      ]
    },
    {
      "cell_type": "code",
      "metadata": {
        "id": "2FrCTiomaMrQ"
      },
      "source": [
        "X = Num_ford[[\"Open\", \"Close\", 'High']] ### prédictrice\n",
        "X1 = Num_ford[[\"Open\"]]\n",
        "Y = Num_ford[[\"Moyenne_Mobile\"]] #### Variable à prédire"
      ],
      "execution_count": null,
      "outputs": []
    },
    {
      "cell_type": "code",
      "metadata": {
        "id": "7LvSDJtAaMrW"
      },
      "source": [
        "#### Regression Linéaire\n",
        "\n",
        "from sklearn.linear_model import LinearRegression\n",
        "\n",
        "#### fit(X,y)\n",
        "\n",
        "#### On cherche a predire une moyenne mobile\n",
        "\n",
        "model = LinearRegression().fit(X1, Y)\n",
        "\n",
        "model.coef_\n",
        "m = model.coef_[0][0]\n",
        "#n = model.coef_[0][1]\n",
        "# o = model.coef_[0][2]\n",
        "b = model.intercept_[0]"
      ],
      "execution_count": null,
      "outputs": []
    },
    {
      "cell_type": "code",
      "metadata": {
        "id": "l6xY2PMhNg_5",
        "colab": {
          "base_uri": "https://localhost:8080/",
          "height": 212
        },
        "outputId": "4ffb29f2-22f3-4eab-d44b-5203498cfcbf"
      },
      "source": [
        "##### Equation de la ligne\n",
        "\n",
        "print(\"y=\", round(b,2), \"+\" , round(m,2), \"x1 +\",  round(n,2), \"x2 +\", round(o,2), \"x3\" ) ##### Equation de la droite"
      ],
      "execution_count": null,
      "outputs": [
        {
          "output_type": "error",
          "ename": "NameError",
          "evalue": "ignored",
          "traceback": [
            "\u001b[0;31m---------------------------------------------------------------------------\u001b[0m",
            "\u001b[0;31mNameError\u001b[0m                                 Traceback (most recent call last)",
            "\u001b[0;32m<ipython-input-47-1e9af70aa34a>\u001b[0m in \u001b[0;36m<module>\u001b[0;34m()\u001b[0m\n\u001b[1;32m      1\u001b[0m \u001b[0;31m##### Equation de la ligne\u001b[0m\u001b[0;34m\u001b[0m\u001b[0;34m\u001b[0m\u001b[0;34m\u001b[0m\u001b[0m\n\u001b[1;32m      2\u001b[0m \u001b[0;34m\u001b[0m\u001b[0m\n\u001b[0;32m----> 3\u001b[0;31m \u001b[0mprint\u001b[0m\u001b[0;34m(\u001b[0m\u001b[0;34m\"y=\"\u001b[0m\u001b[0;34m,\u001b[0m \u001b[0mround\u001b[0m\u001b[0;34m(\u001b[0m\u001b[0mb\u001b[0m\u001b[0;34m,\u001b[0m\u001b[0;36m2\u001b[0m\u001b[0;34m)\u001b[0m\u001b[0;34m,\u001b[0m \u001b[0;34m\"+\"\u001b[0m \u001b[0;34m,\u001b[0m \u001b[0mround\u001b[0m\u001b[0;34m(\u001b[0m\u001b[0mm\u001b[0m\u001b[0;34m,\u001b[0m\u001b[0;36m2\u001b[0m\u001b[0;34m)\u001b[0m\u001b[0;34m,\u001b[0m \u001b[0;34m\"x1 +\"\u001b[0m\u001b[0;34m,\u001b[0m  \u001b[0mround\u001b[0m\u001b[0;34m(\u001b[0m\u001b[0mn\u001b[0m\u001b[0;34m,\u001b[0m\u001b[0;36m2\u001b[0m\u001b[0;34m)\u001b[0m\u001b[0;34m,\u001b[0m \u001b[0;34m\"x2 +\"\u001b[0m\u001b[0;34m,\u001b[0m \u001b[0mround\u001b[0m\u001b[0;34m(\u001b[0m\u001b[0mo\u001b[0m\u001b[0;34m,\u001b[0m\u001b[0;36m2\u001b[0m\u001b[0;34m)\u001b[0m\u001b[0;34m,\u001b[0m \u001b[0;34m\"x3\"\u001b[0m \u001b[0;34m)\u001b[0m \u001b[0;31m##### Equation de la droite\u001b[0m\u001b[0;34m\u001b[0m\u001b[0;34m\u001b[0m\u001b[0m\n\u001b[0m",
            "\u001b[0;31mNameError\u001b[0m: name 'n' is not defined"
          ]
        }
      ]
    },
    {
      "cell_type": "code",
      "metadata": {
        "id": "4qK6y4zGNg_-",
        "outputId": "d64dbcb5-7aa3-499f-ef32-a758158c06ba"
      },
      "source": [
        "model.intercept_[0]"
      ],
      "execution_count": null,
      "outputs": [
        {
          "output_type": "execute_result",
          "data": {
            "text/plain": [
              "0.8531314918153967"
            ]
          },
          "metadata": {
            "tags": []
          },
          "execution_count": 162
        }
      ]
    },
    {
      "cell_type": "code",
      "metadata": {
        "id": "4HZsFCYINhAG",
        "outputId": "691e3d01-0606-4d14-9f5b-cd20643493a4"
      },
      "source": [
        "model.coef_[0][0]"
      ],
      "execution_count": null,
      "outputs": [
        {
          "output_type": "execute_result",
          "data": {
            "text/plain": [
              "0.22440093004573047"
            ]
          },
          "metadata": {
            "tags": []
          },
          "execution_count": 163
        }
      ]
    },
    {
      "cell_type": "code",
      "metadata": {
        "id": "uT9-EitJNhAP"
      },
      "source": [
        "a = list(model.coef_)"
      ],
      "execution_count": null,
      "outputs": []
    },
    {
      "cell_type": "markdown",
      "metadata": {
        "id": "EzT7mUhGaMrg"
      },
      "source": [
        "<math>\n",
        "Y = X \\beta + \\epsilon\n",
        "</math>"
      ]
    },
    {
      "cell_type": "code",
      "metadata": {
        "id": "cSbd2a4eNhAX",
        "outputId": "b4c409ba-0e24-4c40-b42d-a7eb8ac961ab"
      },
      "source": [
        "model"
      ],
      "execution_count": null,
      "outputs": [
        {
          "output_type": "execute_result",
          "data": {
            "text/plain": [
              "LinearRegression()"
            ]
          },
          "metadata": {
            "tags": []
          },
          "execution_count": 154
        }
      ]
    },
    {
      "cell_type": "code",
      "metadata": {
        "id": "U5AtTyoOaMrh",
        "outputId": "78d5ca1a-e904-4984-969a-7f32a70d6fb3"
      },
      "source": [
        "#### Prédiction de la moyenne mobile du cours d'ouverture\n",
        "\n",
        "prediction = model.predict(X1) #### Prédictrice : variable High\n",
        "prediction[:10]"
      ],
      "execution_count": null,
      "outputs": [
        {
          "output_type": "execute_result",
          "data": {
            "text/plain": [
              "array([[11.72548944],\n",
              "       [12.00880327],\n",
              "       [12.30928721],\n",
              "       [12.31787268],\n",
              "       [12.54967535],\n",
              "       [12.55826081],\n",
              "       [12.43806675],\n",
              "       [12.45523686],\n",
              "       [12.7814772 ],\n",
              "       [12.97035336]])"
            ]
          },
          "metadata": {
            "tags": []
          },
          "execution_count": 172
        }
      ]
    },
    {
      "cell_type": "code",
      "metadata": {
        "id": "Zmm5YjGzaMro",
        "outputId": "a7dfa940-68ee-45c4-af5c-2353fd552cd1"
      },
      "source": [
        "##### On crée un nouveau data frame avec les valeurs prédites\n",
        "prediction = pd.DataFrame(data = prediction, index = Num_ford.index.values, columns = [\"Pred\"])\n",
        "\n",
        "prediction.head(5)  #### Affichage des 5 valeurs"
      ],
      "execution_count": null,
      "outputs": [
        {
          "output_type": "execute_result",
          "data": {
            "text/html": [
              "<div>\n",
              "<style scoped>\n",
              "    .dataframe tbody tr th:only-of-type {\n",
              "        vertical-align: middle;\n",
              "    }\n",
              "\n",
              "    .dataframe tbody tr th {\n",
              "        vertical-align: top;\n",
              "    }\n",
              "\n",
              "    .dataframe thead th {\n",
              "        text-align: right;\n",
              "    }\n",
              "</style>\n",
              "<table border=\"1\" class=\"dataframe\">\n",
              "  <thead>\n",
              "    <tr style=\"text-align: right;\">\n",
              "      <th></th>\n",
              "      <th>Pred</th>\n",
              "    </tr>\n",
              "  </thead>\n",
              "  <tbody>\n",
              "    <tr>\n",
              "      <th>199</th>\n",
              "      <td>11.725489</td>\n",
              "    </tr>\n",
              "    <tr>\n",
              "      <th>200</th>\n",
              "      <td>12.008803</td>\n",
              "    </tr>\n",
              "    <tr>\n",
              "      <th>201</th>\n",
              "      <td>12.309287</td>\n",
              "    </tr>\n",
              "    <tr>\n",
              "      <th>202</th>\n",
              "      <td>12.317873</td>\n",
              "    </tr>\n",
              "    <tr>\n",
              "      <th>203</th>\n",
              "      <td>12.549675</td>\n",
              "    </tr>\n",
              "  </tbody>\n",
              "</table>\n",
              "</div>"
            ],
            "text/plain": [
              "          Pred\n",
              "199  11.725489\n",
              "200  12.008803\n",
              "201  12.309287\n",
              "202  12.317873\n",
              "203  12.549675"
            ]
          },
          "metadata": {
            "tags": []
          },
          "execution_count": 173
        }
      ]
    },
    {
      "cell_type": "code",
      "metadata": {
        "id": "XFSz8ZiWaMrt",
        "outputId": "1cbe8394-5502-4e3a-8522-4545b207f2ca"
      },
      "source": [
        "#### Jointure de la prediction avec l'ancienne table\n",
        "jointure = Num_ford.join(prediction, how = \"inner\") \n",
        "jointure.head(5)"
      ],
      "execution_count": null,
      "outputs": [
        {
          "output_type": "execute_result",
          "data": {
            "text/html": [
              "<div>\n",
              "<style scoped>\n",
              "    .dataframe tbody tr th:only-of-type {\n",
              "        vertical-align: middle;\n",
              "    }\n",
              "\n",
              "    .dataframe tbody tr th {\n",
              "        vertical-align: top;\n",
              "    }\n",
              "\n",
              "    .dataframe thead th {\n",
              "        text-align: right;\n",
              "    }\n",
              "</style>\n",
              "<table border=\"1\" class=\"dataframe\">\n",
              "  <thead>\n",
              "    <tr style=\"text-align: right;\">\n",
              "      <th></th>\n",
              "      <th>Date</th>\n",
              "      <th>High</th>\n",
              "      <th>Low</th>\n",
              "      <th>Open</th>\n",
              "      <th>Close</th>\n",
              "      <th>Volume</th>\n",
              "      <th>Adj Close</th>\n",
              "      <th>Num</th>\n",
              "      <th>Moyenne_Mobile</th>\n",
              "      <th>Pred</th>\n",
              "    </tr>\n",
              "  </thead>\n",
              "  <tbody>\n",
              "    <tr>\n",
              "      <th>199</th>\n",
              "      <td>2012-12-28</td>\n",
              "      <td>12.88</td>\n",
              "      <td>12.52</td>\n",
              "      <td>12.55</td>\n",
              "      <td>12.87</td>\n",
              "      <td>95668600.0</td>\n",
              "      <td>8.847704</td>\n",
              "      <td>200</td>\n",
              "      <td>10.732625</td>\n",
              "      <td>11.725489</td>\n",
              "    </tr>\n",
              "    <tr>\n",
              "      <th>200</th>\n",
              "      <td>2012-12-31</td>\n",
              "      <td>13.08</td>\n",
              "      <td>12.76</td>\n",
              "      <td>12.88</td>\n",
              "      <td>12.95</td>\n",
              "      <td>106908900.0</td>\n",
              "      <td>8.902698</td>\n",
              "      <td>201</td>\n",
              "      <td>10.776500</td>\n",
              "      <td>12.008803</td>\n",
              "    </tr>\n",
              "    <tr>\n",
              "      <th>201</th>\n",
              "      <td>2013-01-02</td>\n",
              "      <td>13.28</td>\n",
              "      <td>13.00</td>\n",
              "      <td>13.23</td>\n",
              "      <td>13.20</td>\n",
              "      <td>75274700.0</td>\n",
              "      <td>9.074565</td>\n",
              "      <td>202</td>\n",
              "      <td>10.823750</td>\n",
              "      <td>12.309287</td>\n",
              "    </tr>\n",
              "    <tr>\n",
              "      <th>202</th>\n",
              "      <td>2013-01-03</td>\n",
              "      <td>13.70</td>\n",
              "      <td>13.05</td>\n",
              "      <td>13.24</td>\n",
              "      <td>13.46</td>\n",
              "      <td>121284700.0</td>\n",
              "      <td>9.253306</td>\n",
              "      <td>203</td>\n",
              "      <td>10.868500</td>\n",
              "      <td>12.317873</td>\n",
              "    </tr>\n",
              "    <tr>\n",
              "      <th>203</th>\n",
              "      <td>2013-01-04</td>\n",
              "      <td>13.61</td>\n",
              "      <td>13.35</td>\n",
              "      <td>13.51</td>\n",
              "      <td>13.57</td>\n",
              "      <td>54669900.0</td>\n",
              "      <td>9.328927</td>\n",
              "      <td>204</td>\n",
              "      <td>10.913000</td>\n",
              "      <td>12.549675</td>\n",
              "    </tr>\n",
              "  </tbody>\n",
              "</table>\n",
              "</div>"
            ],
            "text/plain": [
              "          Date   High    Low   Open  Close       Volume  Adj Close  Num  \\\n",
              "199 2012-12-28  12.88  12.52  12.55  12.87   95668600.0   8.847704  200   \n",
              "200 2012-12-31  13.08  12.76  12.88  12.95  106908900.0   8.902698  201   \n",
              "201 2013-01-02  13.28  13.00  13.23  13.20   75274700.0   9.074565  202   \n",
              "202 2013-01-03  13.70  13.05  13.24  13.46  121284700.0   9.253306  203   \n",
              "203 2013-01-04  13.61  13.35  13.51  13.57   54669900.0   9.328927  204   \n",
              "\n",
              "     Moyenne_Mobile       Pred  \n",
              "199       10.732625  11.725489  \n",
              "200       10.776500  12.008803  \n",
              "201       10.823750  12.309287  \n",
              "202       10.868500  12.317873  \n",
              "203       10.913000  12.549675  "
            ]
          },
          "metadata": {
            "tags": []
          },
          "execution_count": 174
        }
      ]
    },
    {
      "cell_type": "code",
      "metadata": {
        "id": "8vgnfmhUaMrz",
        "outputId": "04a777b8-bec9-4e3f-ca41-84822239ea4c"
      },
      "source": [
        "#### Affichage de la moyenne mobile et de la prédiction\n",
        "\n",
        "fig = plt.figure()\n",
        "ax =fig.add_subplot(111)\n",
        "#### La variable d'ouverture\n",
        "ax.plot(jointure[\"Num\"], jointure[\"Moyenne_Mobile\"], color = (0,0,0), linewidth = 4, alpha = .9,label = \"Moyenne mobile\")\n",
        "#### La prédiction\n",
        "ax.plot(jointure[\"Num\"], jointure[\"Pred\"], color = (1,0,0), label = \"Prediction\")\n",
        "ax.set_title(\"Moyenne mobile vs Régression linéaire\")\n",
        "ax.set_xlabel(\"Num\")\n",
        "ax.set_ylabel(\"Prix\")\n",
        "ax.legend(loc=\"lower right\")"
      ],
      "execution_count": null,
      "outputs": [
        {
          "output_type": "execute_result",
          "data": {
            "text/plain": [
              "<matplotlib.legend.Legend at 0x1e071a1ecd0>"
            ]
          },
          "metadata": {
            "tags": []
          },
          "execution_count": 175
        },
        {
          "output_type": "display_data",
          "data": {
            "image/png": "[encoded data removed]",
            "text/plain": [
              "<Figure size 432x288 with 1 Axes>"
            ]
          },
          "metadata": {
            "tags": [],
            "needs_background": "light"
          }
        }
      ]
    },
    {
      "cell_type": "code",
      "metadata": {
        "id": "2WjCGTHcaMr5",
        "outputId": "7dbdc830-7216-4bb5-99be-e7cc859b094d"
      },
      "source": [
        "import sklearn\n",
        "\n",
        "r_carre = sklearn.metrics.r2_score(jointure[\"Moyenne_Mobile\"],jointure[\"Pred\"], multioutput = \"uniform_average\")\n",
        "r_carre"
      ],
      "execution_count": null,
      "outputs": [
        {
          "output_type": "execute_result",
          "data": {
            "text/plain": [
              "0.7615144633869729"
            ]
          },
          "metadata": {
            "tags": []
          },
          "execution_count": 176
        }
      ]
    },
    {
      "cell_type": "markdown",
      "metadata": {
        "id": "AMl8-YCZaMsL"
      },
      "source": [
        "R_carre faible"
      ]
    }
  ]
}